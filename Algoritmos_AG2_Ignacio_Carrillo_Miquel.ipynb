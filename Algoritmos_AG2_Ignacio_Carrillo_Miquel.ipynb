{
  "nbformat": 4,
  "nbformat_minor": 0,
  "metadata": {
    "colab": {
      "provenance": [],
      "toc_visible": true,
      "include_colab_link": true
    },
    "kernelspec": {
      "name": "python3",
      "display_name": "Python 3"
    }
  },
  "cells": [
    {
      "cell_type": "markdown",
      "metadata": {
        "id": "view-in-github",
        "colab_type": "text"
      },
      "source": [
        "<a href=\"https://colab.research.google.com/github/ncmiquel/03MIAR---Algoritmos-de-Optimizacion/blob/main/Algoritmos_AG2_Ignacio_Carrillo_Miquel.ipynb\" target=\"_parent\"><img src=\"https://colab.research.google.com/assets/colab-badge.svg\" alt=\"Open In Colab\"/></a>"
      ]
    },
    {
      "cell_type": "markdown",
      "metadata": {
        "id": "ta1tvzVvsKPC"
      },
      "source": [
        "# AG2 - Actividad Guiada 2\n",
        "Nombre: Ignacio Carrillo Miquel <br>\n",
        "Link:   https://colab.research.google.com/drive/1JENXagpq-Lyla01DHuqHnwdwo4xvtkyO?usp=sharing <br>\n",
        "Github: https://github.com/ncmiquel/03MIAR---Algoritmos-de-Optimizacion\n",
        "<br>\n",
        "\n",
        "\n"
      ]
    },
    {
      "cell_type": "code",
      "source": [
        "import math"
      ],
      "metadata": {
        "id": "YD-3ETakf7Bl"
      },
      "execution_count": 1,
      "outputs": []
    },
    {
      "cell_type": "markdown",
      "source": [
        "## PROGRAMACIÓN DINÁMICA\n",
        "\n",
        "Vamos a tratar de resolver el probelma del río: <br>\n",
        "En un río hay n embarcaderos y debemos desplazarnos río abajo desde un embarcadero a otro. Cada embarcadero tiene precios diferentes para ir de uno a otro. Para ir del embarcadero i al j, puede ocurrir que sea más barato hacer un trasbordo por un embarcadero intermedio k. El problema consiste en determinar la combinación más barata. <br>\n",
        "\n",
        "En primer lugar, trasladaremos las tarifas de cada embarcadero a una matriz de tarifas. Los valores marcados como 999, están para garantizar que ese trayecto no se va a elegir para incluirlo en la ruta óptima.\n",
        "\n"
      ],
      "metadata": {
        "id": "HpgkEu8dsDgV"
      }
    },
    {
      "cell_type": "code",
      "source": [
        "# Viaje por el rio - Programación dinámica\n",
        "\n",
        "# Constante para indicar que no hay tarifa disponible\n",
        "NT = math.inf\n",
        "\n",
        "# Tarifas entre los embarcaderos\n",
        "tarifas = [\n",
        "[0, 5, 4, 3, NT, NT, NT],      # desde nodo 0\n",
        "[NT, 0, NT, 2, 3, NT, 11],     # desde nodo 1\n",
        "[NT, NT, 0, 1, NT, 4, 10],     # desde nodo 2\n",
        "[NT, NT, NT, 0, 5, 6, 9],      # desde nodo 3\n",
        "[NT, NT, NT, NT, 0, NT, 4],    # desde nodo 4\n",
        "[NT, NT, NT, NT, NT, 0, 3],    # desde nodo 5\n",
        "[NT, NT, NT, NT, NT, NT, 0]    # desde nodo 6\n",
        "]\n"
      ],
      "metadata": {
        "id": "st-OCaWkg5nb"
      },
      "execution_count": 2,
      "outputs": []
    },
    {
      "cell_type": "code",
      "source": [
        "# Calcularemos la matriz de PRECIOS y RUTAS\n",
        "\n",
        "# precios: contiene la matriz del mejor precio para ir de un nodo a otro\n",
        "# ruta: contiene los nodos intermedios para ir de un nodo a otro\n",
        "\n",
        "def Precios(tarifas):\n",
        "  # Total de Nodos\n",
        "  N = len(tarifas[0])\n",
        "  \n",
        "  # Inicializamos la tabla de precios\n",
        "  precios = [[NT]*N for i in range(N)]  # n x n \n",
        "  ruta = [[-1]*N for i in range(N)]\n",
        "  \n",
        "  # Recorremos todos los nodos con dos bucles(origen - destino) para ir construyendo la matriz de PRECIOS\n",
        "  \n",
        "  # Bucle para embarcaciones de origen\n",
        "  for i in range(N-1):\n",
        "    # Bucle para embarcaciones de destino\n",
        "    for j in range(i+1, N):\n",
        "      # Inicializamos el precio MIN y la ruta con los valores directos\n",
        "      precio_minimo = tarifas[i][j]\n",
        "      ruta[i][j] = i\n",
        "      # Bucle para embarcaciones intermedias\n",
        "      for k in range(i, j):\n",
        "        # Si hay una ruta más económica a través de un embarcadero intermedio, actualizamos el precio y la ruta\n",
        "        precio_intermedio = precios[i][k] + tarifas[k][j]\n",
        "        if precio_intermedio < precio_minimo:\n",
        "            precio_minimo = precio_intermedio\n",
        "            ruta[i][j] = k\n",
        "        precios[i][j] = precio_minimo\n",
        "        \n",
        "  return precios,ruta"
      ],
      "metadata": {
        "id": "WrT3VCcUjeif"
      },
      "execution_count": 3,
      "outputs": []
    },
    {
      "cell_type": "code",
      "source": [
        "precios,ruta = Precios(tarifas)  \n",
        "\n",
        "print(\"PRECIOS\")\n",
        "display(precios)\n",
        "\n",
        "print(\"\\nRUTA\")  \n",
        "display(ruta) "
      ],
      "metadata": {
        "colab": {
          "base_uri": "https://localhost:8080/",
          "height": 312
        },
        "id": "KvFTvBWSj0ZY",
        "outputId": "1d89553d-946e-4669-b43a-941882888a3e"
      },
      "execution_count": 4,
      "outputs": [
        {
          "output_type": "stream",
          "name": "stdout",
          "text": [
            "PRECIOS\n"
          ]
        },
        {
          "output_type": "display_data",
          "data": {
            "text/plain": [
              "[[inf, 5, 4, 3, 8, 8, 11],\n",
              " [inf, inf, inf, 2, 3, 8, 7],\n",
              " [inf, inf, inf, 1, 6, 4, 7],\n",
              " [inf, inf, inf, inf, 5, 6, 9],\n",
              " [inf, inf, inf, inf, inf, inf, 4],\n",
              " [inf, inf, inf, inf, inf, inf, 3],\n",
              " [inf, inf, inf, inf, inf, inf, inf]]"
            ]
          },
          "metadata": {}
        },
        {
          "output_type": "stream",
          "name": "stdout",
          "text": [
            "\n",
            "RUTA\n"
          ]
        },
        {
          "output_type": "display_data",
          "data": {
            "text/plain": [
              "[[-1, 0, 0, 0, 1, 2, 5],\n",
              " [-1, -1, 1, 1, 1, 3, 4],\n",
              " [-1, -1, -1, 2, 3, 2, 5],\n",
              " [-1, -1, -1, -1, 3, 3, 3],\n",
              " [-1, -1, -1, -1, -1, 4, 4],\n",
              " [-1, -1, -1, -1, -1, -1, 5],\n",
              " [-1, -1, -1, -1, -1, -1, -1]]"
            ]
          },
          "metadata": {}
        }
      ]
    },
    {
      "cell_type": "code",
      "source": [
        "#Calculo de la ruta usando la matriz RUTA\n",
        "def calcular_ruta(RUTA, desde, hasta):\n",
        "  if desde == RUTA[desde][hasta]:\n",
        "    return desde \n",
        "  else:\n",
        "    return str(calcular_ruta(RUTA, desde, RUTA[desde][hasta])) +  ',' + str(RUTA[desde][hasta]) \n",
        "\n",
        "print(\"\\nLa ruta es:\")  \n",
        "calcular_ruta(ruta, 0,6) "
      ],
      "metadata": {
        "colab": {
          "base_uri": "https://localhost:8080/",
          "height": 70
        },
        "id": "68e59NS8m9G5",
        "outputId": "1c97332d-c307-4f35-b145-fdb2cfdc1c26"
      },
      "execution_count": 5,
      "outputs": [
        {
          "output_type": "stream",
          "name": "stdout",
          "text": [
            "\n",
            "La ruta es:\n"
          ]
        },
        {
          "output_type": "execute_result",
          "data": {
            "text/plain": [
              "'0,2,5'"
            ],
            "application/vnd.google.colaboratory.intrinsic+json": {
              "type": "string"
            }
          },
          "metadata": {},
          "execution_count": 5
        }
      ]
    },
    {
      "cell_type": "markdown",
      "source": [
        "## RAMIFICACIÓN Y PODA\n",
        "\n",
        "### Problema de asignación de tarea\n",
        "En este caso, tenemos que minimizar los costes de asignación de N tareas a N agentes. Cada tarea solo puede ser\n",
        "asignada a un agente."
      ],
      "metadata": {
        "id": "YQMJEwkYnUrt"
      }
    },
    {
      "cell_type": "code",
      "source": [
        "# Asignacion de tareas (Ramificación y Poda)\n",
        "\n",
        "# Presentamos la matriz de costes (Brassard p.349)\n",
        "# Cada agente es una fila. Cada tarea es una columna.\n",
        "\n",
        "COSTES=[[11,12,18,40],\n",
        "        [14,15,13,22],\n",
        "        [11,17,19,23],\n",
        "        [17,14,20,28]]\n",
        "        "
      ],
      "metadata": {
        "id": "Jo8ojXbaniaq"
      },
      "execution_count": 6,
      "outputs": []
    },
    {
      "cell_type": "markdown",
      "source": [
        "Definimos la función para calcular el valor de una solución dada:"
      ],
      "metadata": {
        "id": "Ct_fux1G2lDU"
      }
    },
    {
      "cell_type": "code",
      "source": [
        "# Valor de una solucion parcial\n",
        "\n",
        "# Sirve para ir calculando el valor de las soluciones \n",
        "# (las posiciones 0, 1, 2, 3 son los agentes)\n",
        "# (Los valores de S(solución): (1, 2, 3, 4) son las tareas asignadas a cada agente)\n",
        "def valor(S,COSTES):\n",
        "  VALOR = 0\n",
        "  for i in range(len(S)):\n",
        "    VALOR += COSTES[S[i]][i] \n",
        "  return VALOR\n",
        "\n",
        "valor((3,2,1,0),COSTES)"
      ],
      "metadata": {
        "colab": {
          "base_uri": "https://localhost:8080/",
          "height": 0
        },
        "id": "87wp4E8wqNIK",
        "outputId": "f9bec18e-e8fa-4260-c533-04f20a2e5cbe"
      },
      "execution_count": 7,
      "outputs": [
        {
          "output_type": "execute_result",
          "data": {
            "text/plain": [
              "87"
            ]
          },
          "metadata": {},
          "execution_count": 7
        }
      ]
    },
    {
      "cell_type": "markdown",
      "source": [
        "**IMPORTANTE**: hemos hecho cambios para mejorar la función de cálculo de costes:\n",
        "1. Hemos unido en una sola función el cálculo de la cota máxima y mínima (según se especifique 'min' o 'max').\n",
        "2. Hemos añadido un control booleano (tarea not in S) para asegurarnos de que solo añadimos los valores que no hemos sumado previamente."
      ],
      "metadata": {
        "id": "5oVhnDz-2Wbu"
      }
    },
    {
      "cell_type": "code",
      "source": [
        "# Coste para soluciones parciales\n",
        "#  (1,3,) Se asigna la tarea 1 al agente 0 y la tarea 3 al agente 1\n",
        "\n",
        "def COSTE(S, COSTES, minmax):\n",
        "    VALOR = 0\n",
        "     #Valores establecidos\n",
        "\n",
        "    for tarea in range(len(S)):\n",
        "        VALOR += COSTES[tarea][S[tarea]]\n",
        "    #Estimacion\n",
        "    for tarea in range(len(COSTES)):\n",
        "        if minmax == 'max' and tarea not in S:\n",
        "            VALOR += max([COSTES[agente][tarea] for agente in range(len(S), len(COSTES))])\n",
        "        if minmax == 'min' and tarea not in S:\n",
        "            VALOR += min([COSTES[agente][tarea] for agente in range(len(S), len(COSTES))])\n",
        "    \n",
        "    return VALOR\n",
        "\n",
        "COSTE((0,),COSTES,'min')"
      ],
      "metadata": {
        "colab": {
          "base_uri": "https://localhost:8080/",
          "height": 0
        },
        "id": "s_DJwHggqWNJ",
        "outputId": "fcb75335-8d79-467a-e0ac-6d59b60640bf"
      },
      "execution_count": 8,
      "outputs": [
        {
          "output_type": "execute_result",
          "data": {
            "text/plain": [
              "60"
            ]
          },
          "metadata": {},
          "execution_count": 8
        }
      ]
    },
    {
      "cell_type": "markdown",
      "source": [
        "La siguiente función crea los hijos que faltan a partir de una solución:"
      ],
      "metadata": {
        "id": "qgy0CZo42vJf"
      }
    },
    {
      "cell_type": "code",
      "source": [
        "#Genera tantos hijos como como posibilidades haya para la siguiente elemento de la tupla\n",
        "#(0,) -> (0,1), (0,2), (0,3)\n",
        "\n",
        "def crear_hijos(NODO, N):\n",
        "  HIJOS = []\n",
        "  for i in range(N):\n",
        "    if i not in NODO:\n",
        "      HIJOS.append({'s':NODO + (i,)})\n",
        "  return HIJOS\n",
        "\n",
        "crear_hijos((0,2,3),4)"
      ],
      "metadata": {
        "colab": {
          "base_uri": "https://localhost:8080/",
          "height": 0
        },
        "id": "l8JlfFTgqo0T",
        "outputId": "bc944903-5fc2-454a-f44b-bc4648991640"
      },
      "execution_count": 9,
      "outputs": [
        {
          "output_type": "execute_result",
          "data": {
            "text/plain": [
              "[{'s': (0, 2, 3, 1)}]"
            ]
          },
          "metadata": {},
          "execution_count": 9
        }
      ]
    },
    {
      "cell_type": "markdown",
      "source": [
        "Por último presentamos el algoritmo de ramificación y poda, aplicado para este caso de asignación de tareas al menor coste:"
      ],
      "metadata": {
        "id": "L3gZXMM322J6"
      }
    },
    {
      "cell_type": "code",
      "source": [
        "def ramificacion_y_poda(COSTES):\n",
        "  # Construccion iterativa de soluciones(arbol). En cada etapa asignamos un agente(ramas).\n",
        "  # Nodos del grafo  {s:(1,2),CI:3,CS:5}\n",
        "\n",
        "  # Inicializamos variables\n",
        "  DIMENSION = len(COSTES)  \n",
        "  MEJOR_SOLUCION = tuple(i for i in range(len(COSTES)))\n",
        "  CotaSup = valor(MEJOR_SOLUCION, COSTES)\n",
        "  NODOS=[]\n",
        "  NODOS.append({'s':(), 'ci':COSTE((),COSTES, 'min')})\n",
        "  iteracion = 0\n",
        "\n",
        "  while(len(NODOS) > 0):\n",
        "    iteracion +=1\n",
        "\n",
        "    nodo_prometedor = [min(NODOS, key=lambda x:x['ci']) ][0]['s']\n",
        "\n",
        "    # Ramificacion\n",
        "    # Se generan los hijos\n",
        "    HIJOS =[{'s':x['s'], 'ci':COSTE(x['s'], COSTES, 'min')} for x in crear_hijos(nodo_prometedor, DIMENSION)]\n",
        "\n",
        "    # Revisamos la cota inferior y nos quedamos con la mejor solucion si llegamos a una solucion final\n",
        "    NODO_FINAL = [x for x in HIJOS if len(x['s']) == DIMENSION]\n",
        "    if len(NODO_FINAL ) >0: \n",
        "      if NODO_FINAL[0]['ci'] < CotaSup:\n",
        "        CotaSup = NODO_FINAL[0]['ci']\n",
        "        MEJOR_SOLUCION = NODO_FINAL\n",
        " \n",
        "    # Poda\n",
        "    HIJOS = [x for x in HIJOS if x['ci'] < CotaSup]\n",
        "\n",
        "    # Añadimos los hijos \n",
        "    NODOS.extend(HIJOS) \n",
        "\n",
        "    # Eliminamos el nodo ramificado\n",
        "    NODOS =  [  x for x in NODOS if x['s'] != nodo_prometedor]\n",
        "   \n",
        "  print(\"La solucion final es:\", MEJOR_SOLUCION, \"en\", iteracion, \"iteraciones\", \"para dimension:\", DIMENSION)\n",
        "\n",
        "ramificacion_y_poda(COSTES)"
      ],
      "metadata": {
        "colab": {
          "base_uri": "https://localhost:8080/",
          "height": 0
        },
        "id": "dvsBKEarrMx5",
        "outputId": "ee678c84-8c0c-48a6-e98d-7ed77e82834e"
      },
      "execution_count": 10,
      "outputs": [
        {
          "output_type": "stream",
          "name": "stdout",
          "text": [
            "La solucion final es: [{'s': (0, 2, 3, 1), 'ci': 61}] en 14 iteraciones para dimension: 4\n"
          ]
        }
      ]
    },
    {
      "cell_type": "markdown",
      "source": [
        "Como vemos, la solución coincide con lo esperado para este caso."
      ],
      "metadata": {
        "id": "4fKR8BmB3ob6"
      }
    },
    {
      "cell_type": "markdown",
      "source": [
        "## AMPLIACIÓN\n",
        "\n",
        "- Generar matrices con valores aleatorios de mayores\n",
        "dimensiones (5,6,7,…) y ejecutar ambos algoritmos.\n",
        "- ¿A partir de que dimensión el algoritmo por fuerza bruta\n",
        "deja de ser una opción?\n",
        "- ¿Hay algún valor de la dimensión a partir de la cual el\n",
        "algoritmo de ramificación y poda también deja de ser una\n",
        "opción válida? <br>\n",
        "\n",
        "En primer lugar, calcularemos la asignación de costes por fuerza bruta, es decir, calcularemos todas las posibles soluciones y evaluaremos el coste de cada una de ellas. Nos quedaremos con la de menor coste, que debe coincidir con la que ya hemos obtenido. Luego aplicaremos los algoritmos a matrices de mayores dimensiones, tal y cómo se propone en el enunciado."
      ],
      "metadata": {
        "id": "B_hTw8bwIGP9"
      }
    },
    {
      "cell_type": "code",
      "source": [
        "import itertools\n",
        "import math\n",
        "\n",
        "def coste_fuerza_bruta(costes):\n",
        "  # Obtenemos cuántas tareas y agentes tenemos\n",
        "  dimension = len(costes)  \n",
        "  # Obtenemos el número de combinaciones que tenemos para la dimensión establecida (con itertools)\n",
        "  combinaciones = list(itertools.permutations(range(dimension), dimension))\n",
        "  coste_todas_soluciones = []\n",
        "  # Obtenemos el coste para cada solución\n",
        "  for solucion in combinaciones:\n",
        "    coste_todas_soluciones = coste_todas_soluciones + [{'s' : solucion, 'ci' : COSTE(solucion, costes, 'min')}]\n",
        "\n",
        "  #Revisamos las cotas inferiores y nos quedamos con la mejor solucion\n",
        "  solucion_optima = [{'s': [min(coste_todas_soluciones, key=lambda x:x['ci'])][0]['s'], 'ci': [min(coste_todas_soluciones, key=lambda x:x['ci'])][0]['ci']}]\n",
        "  print(\"La solucion final es:\", solucion_optima, \"en\", math.factorial(dimension), \"iteraciones\" , \"para dimension:\", dimension)\n",
        "\n",
        "coste_fuerza_bruta(COSTES)"
      ],
      "metadata": {
        "colab": {
          "base_uri": "https://localhost:8080/",
          "height": 0
        },
        "id": "QILdJclAINeA",
        "outputId": "5634c716-5087-46de-d3d9-dd5e334e7d1c"
      },
      "execution_count": 11,
      "outputs": [
        {
          "output_type": "stream",
          "name": "stdout",
          "text": [
            "La solucion final es: [{'s': (0, 2, 3, 1), 'ci': 61}] en 24 iteraciones para dimension: 4\n"
          ]
        }
      ]
    },
    {
      "cell_type": "markdown",
      "source": [
        "Como vemos, por fuerza bruta llegamos a la misma solución. Vamos a probarlo ahora con matrices de mayores dimensiones. Así pues, tenemos:"
      ],
      "metadata": {
        "id": "COzlI5iZIyq4"
      }
    },
    {
      "cell_type": "code",
      "source": [
        "import random\n",
        "import pandas as pd\n",
        "import time\n",
        "\n",
        "# Probamos los algoritmos por fuerza bruta y por ramificación y poda, y determinamos los tiempos de ejecución\n",
        "\n",
        "# Creamos un DataFrame vacío para guardar los tiempos de ejecución\n",
        "df = pd.DataFrame()\n",
        "# Generamos matrices cuadradas aleatorias de tamaño n x n para 5 ≤ n ≤ 8\n",
        "for n in range(5, 9):\n",
        "    # Generamos una matriz aleatoria de tamaño n x n con números del 1 al 50\n",
        "    matriz = [[random.randint(1, 51) for j in range(n)] for i in range(n)]\n",
        "    \n",
        "    # Medimos el tiempo de ejecución del algoritmo de ramificación y poda\n",
        "    print('Algoritmo de Ramificación y poda para una matriz de',n,'elementos:')\n",
        "    t1 = time.perf_counter()\n",
        "    coste1 = ramificacion_y_poda(matriz)\n",
        "    t1 = time.perf_counter() - t1\n",
        "    \n",
        "    # Medimos el tiempo de ejecución del algoritmo de fuerza bruta\n",
        "    print('Algoritmo de Fuerza bruta para una matriz de',n,'elementos:')\n",
        "    t2 = time.perf_counter()\n",
        "    coste2 = coste_fuerza_bruta(matriz)\n",
        "    t2 = time.perf_counter() - t2\n",
        "    \n",
        "    # Añadir los resultados al DataFrame\n",
        "    df = pd.concat([df, pd.DataFrame({'n': [n], 'Algoritmo Ramificacion y Poda': [t1], 'Algoritmo Fuerza Bruta': [t2]})])\n",
        "\n",
        "# Quitamos Index\n",
        "df.index=[''] * len(df)\n",
        "\n",
        "print()\n",
        "print('TABLA DE TIEMPOS (en segundos')\n",
        "display(df)"
      ],
      "metadata": {
        "colab": {
          "base_uri": "https://localhost:8080/",
          "height": 487
        },
        "id": "fG847DBFI727",
        "outputId": "edaf12b4-956c-4580-cb1f-b8528c4cbc72"
      },
      "execution_count": 12,
      "outputs": [
        {
          "output_type": "stream",
          "name": "stdout",
          "text": [
            "Algoritmo de Ramificación y poda para una matriz de 5 elementos:\n",
            "La solucion final es: [{'s': (2, 3, 1, 0, 4), 'ci': 54}] en 21 iteraciones para dimension: 5\n",
            "Algoritmo de Fuerza bruta para una matriz de 5 elementos:\n",
            "La solucion final es: [{'s': (2, 3, 1, 0, 4), 'ci': 54}] en 120 iteraciones para dimension: 5\n",
            "Algoritmo de Ramificación y poda para una matriz de 6 elementos:\n",
            "La solucion final es: [{'s': (5, 4, 2, 0, 1, 3), 'ci': 80}] en 35 iteraciones para dimension: 6\n",
            "Algoritmo de Fuerza bruta para una matriz de 6 elementos:\n",
            "La solucion final es: [{'s': (5, 4, 2, 0, 1, 3), 'ci': 80}] en 720 iteraciones para dimension: 6\n",
            "Algoritmo de Ramificación y poda para una matriz de 7 elementos:\n",
            "La solucion final es: [{'s': (0, 5, 1, 4, 2, 6, 3), 'ci': 89}] en 59 iteraciones para dimension: 7\n",
            "Algoritmo de Fuerza bruta para una matriz de 7 elementos:\n",
            "La solucion final es: [{'s': (0, 5, 1, 4, 2, 6, 3), 'ci': 89}] en 5040 iteraciones para dimension: 7\n",
            "Algoritmo de Ramificación y poda para una matriz de 8 elementos:\n",
            "La solucion final es: [{'s': (5, 6, 1, 3, 2, 7, 0, 4), 'ci': 78}] en 113 iteraciones para dimension: 8\n",
            "Algoritmo de Fuerza bruta para una matriz de 8 elementos:\n",
            "La solucion final es: [{'s': (5, 6, 1, 3, 2, 7, 0, 4), 'ci': 78}] en 40320 iteraciones para dimension: 8\n",
            "\n",
            "TABLA DE TIEMPOS (en segundos\n"
          ]
        },
        {
          "output_type": "display_data",
          "data": {
            "text/plain": [
              "  n  Algoritmo Ramificacion y Poda  Algoritmo Fuerza Bruta\n",
              "  5                       0.005145                0.003558\n",
              "  6                       0.001050                0.013534\n",
              "  7                       0.002851                0.091970\n",
              "  8                       0.009032                5.926579"
            ],
            "text/html": [
              "\n",
              "  <div id=\"df-87566a23-8f5b-4dc2-a0a2-58ba5e5259c7\">\n",
              "    <div class=\"colab-df-container\">\n",
              "      <div>\n",
              "<style scoped>\n",
              "    .dataframe tbody tr th:only-of-type {\n",
              "        vertical-align: middle;\n",
              "    }\n",
              "\n",
              "    .dataframe tbody tr th {\n",
              "        vertical-align: top;\n",
              "    }\n",
              "\n",
              "    .dataframe thead th {\n",
              "        text-align: right;\n",
              "    }\n",
              "</style>\n",
              "<table border=\"1\" class=\"dataframe\">\n",
              "  <thead>\n",
              "    <tr style=\"text-align: right;\">\n",
              "      <th></th>\n",
              "      <th>n</th>\n",
              "      <th>Algoritmo Ramificacion y Poda</th>\n",
              "      <th>Algoritmo Fuerza Bruta</th>\n",
              "    </tr>\n",
              "  </thead>\n",
              "  <tbody>\n",
              "    <tr>\n",
              "      <th></th>\n",
              "      <td>5</td>\n",
              "      <td>0.005145</td>\n",
              "      <td>0.003558</td>\n",
              "    </tr>\n",
              "    <tr>\n",
              "      <th></th>\n",
              "      <td>6</td>\n",
              "      <td>0.001050</td>\n",
              "      <td>0.013534</td>\n",
              "    </tr>\n",
              "    <tr>\n",
              "      <th></th>\n",
              "      <td>7</td>\n",
              "      <td>0.002851</td>\n",
              "      <td>0.091970</td>\n",
              "    </tr>\n",
              "    <tr>\n",
              "      <th></th>\n",
              "      <td>8</td>\n",
              "      <td>0.009032</td>\n",
              "      <td>5.926579</td>\n",
              "    </tr>\n",
              "  </tbody>\n",
              "</table>\n",
              "</div>\n",
              "      <button class=\"colab-df-convert\" onclick=\"convertToInteractive('df-87566a23-8f5b-4dc2-a0a2-58ba5e5259c7')\"\n",
              "              title=\"Convert this dataframe to an interactive table.\"\n",
              "              style=\"display:none;\">\n",
              "        \n",
              "  <svg xmlns=\"http://www.w3.org/2000/svg\" height=\"24px\"viewBox=\"0 0 24 24\"\n",
              "       width=\"24px\">\n",
              "    <path d=\"M0 0h24v24H0V0z\" fill=\"none\"/>\n",
              "    <path d=\"M18.56 5.44l.94 2.06.94-2.06 2.06-.94-2.06-.94-.94-2.06-.94 2.06-2.06.94zm-11 1L8.5 8.5l.94-2.06 2.06-.94-2.06-.94L8.5 2.5l-.94 2.06-2.06.94zm10 10l.94 2.06.94-2.06 2.06-.94-2.06-.94-.94-2.06-.94 2.06-2.06.94z\"/><path d=\"M17.41 7.96l-1.37-1.37c-.4-.4-.92-.59-1.43-.59-.52 0-1.04.2-1.43.59L10.3 9.45l-7.72 7.72c-.78.78-.78 2.05 0 2.83L4 21.41c.39.39.9.59 1.41.59.51 0 1.02-.2 1.41-.59l7.78-7.78 2.81-2.81c.8-.78.8-2.07 0-2.86zM5.41 20L4 18.59l7.72-7.72 1.47 1.35L5.41 20z\"/>\n",
              "  </svg>\n",
              "      </button>\n",
              "      \n",
              "  <style>\n",
              "    .colab-df-container {\n",
              "      display:flex;\n",
              "      flex-wrap:wrap;\n",
              "      gap: 12px;\n",
              "    }\n",
              "\n",
              "    .colab-df-convert {\n",
              "      background-color: #E8F0FE;\n",
              "      border: none;\n",
              "      border-radius: 50%;\n",
              "      cursor: pointer;\n",
              "      display: none;\n",
              "      fill: #1967D2;\n",
              "      height: 32px;\n",
              "      padding: 0 0 0 0;\n",
              "      width: 32px;\n",
              "    }\n",
              "\n",
              "    .colab-df-convert:hover {\n",
              "      background-color: #E2EBFA;\n",
              "      box-shadow: 0px 1px 2px rgba(60, 64, 67, 0.3), 0px 1px 3px 1px rgba(60, 64, 67, 0.15);\n",
              "      fill: #174EA6;\n",
              "    }\n",
              "\n",
              "    [theme=dark] .colab-df-convert {\n",
              "      background-color: #3B4455;\n",
              "      fill: #D2E3FC;\n",
              "    }\n",
              "\n",
              "    [theme=dark] .colab-df-convert:hover {\n",
              "      background-color: #434B5C;\n",
              "      box-shadow: 0px 1px 3px 1px rgba(0, 0, 0, 0.15);\n",
              "      filter: drop-shadow(0px 1px 2px rgba(0, 0, 0, 0.3));\n",
              "      fill: #FFFFFF;\n",
              "    }\n",
              "  </style>\n",
              "\n",
              "      <script>\n",
              "        const buttonEl =\n",
              "          document.querySelector('#df-87566a23-8f5b-4dc2-a0a2-58ba5e5259c7 button.colab-df-convert');\n",
              "        buttonEl.style.display =\n",
              "          google.colab.kernel.accessAllowed ? 'block' : 'none';\n",
              "\n",
              "        async function convertToInteractive(key) {\n",
              "          const element = document.querySelector('#df-87566a23-8f5b-4dc2-a0a2-58ba5e5259c7');\n",
              "          const dataTable =\n",
              "            await google.colab.kernel.invokeFunction('convertToInteractive',\n",
              "                                                     [key], {});\n",
              "          if (!dataTable) return;\n",
              "\n",
              "          const docLinkHtml = 'Like what you see? Visit the ' +\n",
              "            '<a target=\"_blank\" href=https://colab.research.google.com/notebooks/data_table.ipynb>data table notebook</a>'\n",
              "            + ' to learn more about interactive tables.';\n",
              "          element.innerHTML = '';\n",
              "          dataTable['output_type'] = 'display_data';\n",
              "          await google.colab.output.renderOutput(dataTable, element);\n",
              "          const docLink = document.createElement('div');\n",
              "          docLink.innerHTML = docLinkHtml;\n",
              "          element.appendChild(docLink);\n",
              "        }\n",
              "      </script>\n",
              "    </div>\n",
              "  </div>\n",
              "  "
            ]
          },
          "metadata": {}
        }
      ]
    },
    {
      "cell_type": "markdown",
      "source": [
        "Tras comparar el funcionamiento de ambos algoritmos, podemos sacar algunas conclusiones:\n",
        "\n",
        "- El algoritmo de ramificación y poda siempre es más eficiente que el de fuerza bruta. El número de iteraciones es significativamente menor en todos los casos.\n",
        "- Cuando la matriz es de 8x8, el tiempo de ejecución con los recursos de Google Colab ha sido de 0.009 s (113 iteraciones) para el de ramificación y poda, y de 5.927 s para el de fuerza bruta (40320 iteraciones).\n",
        "- Para matrices más grandes de 8x8, el tiempo y recursos aumentan considerablemente. Estos valores pueden cambiar porque tratamos con matrices aleatorias, y dependiendo de éstas, hay cierta variación en los resultados.\n",
        "- El orden de complejidad para el algoritmo de ramificación y poda suele ser de $O(n^2)$ y el de fuerza bruta de $O(n!)$ para este caso. No obstante, la poda permite descartar muchas soluciones parciales, haciendo el algoritmo más eficiente para este problema de asignación."
      ],
      "metadata": {
        "id": "OSV-dZK9VQSw"
      }
    }
  ]
}