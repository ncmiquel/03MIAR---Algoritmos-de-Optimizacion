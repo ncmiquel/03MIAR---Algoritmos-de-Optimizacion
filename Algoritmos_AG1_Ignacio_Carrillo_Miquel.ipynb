{
  "nbformat": 4,
  "nbformat_minor": 0,
  "metadata": {
    "colab": {
      "provenance": [],
      "authorship_tag": "ABX9TyPaGLjXC9ObQxdMGfLjgqPM",
      "include_colab_link": true
    },
    "kernelspec": {
      "name": "python3",
      "display_name": "Python 3"
    },
    "language_info": {
      "name": "python"
    }
  },
  "cells": [
    {
      "cell_type": "markdown",
      "metadata": {
        "id": "view-in-github",
        "colab_type": "text"
      },
      "source": [
        "<a href=\"https://colab.research.google.com/github/ncmiquel/03MIAR---Algoritmos-de-Optimizacion/blob/main/Algoritmos_AG1_Ignacio_Carrillo_Miquel.ipynb\" target=\"_parent\"><img src=\"https://colab.research.google.com/assets/colab-badge.svg\" alt=\"Open In Colab\"/></a>"
      ]
    },
    {
      "cell_type": "markdown",
      "source": [
        "Nombre: Ignacio Carrillo Miquel <br>\n",
        "URL: https://colab.research.google.com/drive/1u76xud1rH8gaDiSwOyQrwaDIt5t7teYL?usp=sharing <br>\n",
        "Github: https://github.com/ncmiquel/03MIAR---Algoritmos-de-Optimizacion"
      ],
      "metadata": {
        "id": "dGw-RKD8QoBb"
      }
    },
    {
      "cell_type": "markdown",
      "source": [
        "## TORRES DE HANOI - Algoritmo de divide y vencerás\n",
        "\n",
        "El algoritmo de *divide y vencerás* es un enfoque de solución de problemas que consiste en dividir un problema grande en subproblemas más pequeños y solucionarlos de manera individual, para luego combinarlos y así obtener una solución completa. Este enfoque se puede aplicar al problema de las torres de Hanoi, en el que se puede dividir el problema de mover todos los discos de una torre a otra en subproblemas más pequeños, como mover discos individuales a una torre intermedia antes de moverlos a su destino final."
      ],
      "metadata": {
        "id": "jmJGrPkGgH_l"
      }
    },
    {
      "cell_type": "code",
      "source": [
        "# Torres de Hanoi (divide y vencerás)\n",
        "\n",
        "def Torres_Hanoi(N, desde, hasta):\n",
        "  # N: nº de fichas\n",
        "  # desde: nº de poste desde\n",
        "  # hasta: nº de poste hasta\n",
        "\n",
        "  if N == 1:\n",
        "    print(\"Lleva la ficha desde \" + str(desde) + \" hasta \" + str(hasta))\n",
        "  \n",
        "  else:\n",
        "    Torres_Hanoi(N-1, desde, 6-desde-hasta)\n",
        "    print(\"Lleva la ficha desde \" + str(desde) + \" hasta \" + str(hasta))\n",
        "    Torres_Hanoi(N-1, 6-desde-hasta, hasta)\n",
        "\n",
        "Torres_Hanoi(3, 1, 3)"
      ],
      "metadata": {
        "colab": {
          "base_uri": "https://localhost:8080/"
        },
        "id": "JDUxkIqjUkY0",
        "outputId": "38e85f65-2d89-402b-d175-ea5269c162e6"
      },
      "execution_count": 1,
      "outputs": [
        {
          "output_type": "stream",
          "name": "stdout",
          "text": [
            "Lleva la ficha desde 1 hasta 3\n",
            "Lleva la ficha desde 1 hasta 2\n",
            "Lleva la ficha desde 3 hasta 2\n",
            "Lleva la ficha desde 1 hasta 3\n",
            "Lleva la ficha desde 2 hasta 1\n",
            "Lleva la ficha desde 2 hasta 3\n",
            "Lleva la ficha desde 1 hasta 3\n"
          ]
        }
      ]
    },
    {
      "cell_type": "markdown",
      "source": [
        "## Cambios de moneda - Algoritmo voraz\n",
        "\n",
        "Un algoritmo voraz es una técnica de solución de problemas que busca la mejor solución posible en cada paso, basándose en la solución óptima local actual. Es un tipo de algoritmo de optimización que se basa en la elección de la mejor opción en cada paso, con la esperanza de que esta conduzca a una solución global óptima.\n",
        "\n",
        "Un algoritmo voraz puede ser útil para resolver el problema de cambio de un sistema monetario, que consiste en dar una suma de dinero con una cantidad mínima de monedas. El algoritmo voraz puede elegir en cada paso la moneda de mayor denominación disponible hasta cubrir la suma exacta necesaria.\n",
        "\n",
        "Planteamos primero la solución del profesor, y vemos que el resultado es una lista con el número de monedas."
      ],
      "metadata": {
        "id": "VwFfBy-rgOOv"
      }
    },
    {
      "cell_type": "code",
      "source": [
        "# Cambio de monedas - Técnica voraz\n",
        "\n",
        "# Definimos el sistema de monedas con el que vamos a trabajar\n",
        "SISTEMA = [12, 5, 2, 1]\n",
        "\n",
        "# Definimos la función de cambio de monedas\n",
        "def cambio_monedas(CANTIDAD,SISTEMA):\n",
        "  # CANTIDAD: cantidad necesaria a cambiar\n",
        "  # SISTEMA: son las monedas con las que trabajaremos\n",
        "  SOLUCION = [0]*len(SISTEMA)\n",
        "  ValorAcumulado = 0\n",
        "\n",
        "  for i,valor in enumerate(SISTEMA):\n",
        "    monedas = (CANTIDAD-ValorAcumulado)//valor\n",
        "    SOLUCION[i] = monedas\n",
        "    ValorAcumulado = ValorAcumulado + monedas*valor\n",
        "    if CANTIDAD == ValorAcumulado:\n",
        "      return SOLUCION\n",
        "  print(\"No es posible encontrar solucion\")\n",
        "\n",
        "cambio_monedas(15,SISTEMA)"
      ],
      "metadata": {
        "colab": {
          "base_uri": "https://localhost:8080/"
        },
        "id": "giz5SP7tgOdR",
        "outputId": "02406e6f-890e-4cb2-e0d6-c89a927ab26a"
      },
      "execution_count": 2,
      "outputs": [
        {
          "output_type": "execute_result",
          "data": {
            "text/plain": [
              "[1, 0, 1, 1]"
            ]
          },
          "metadata": {},
          "execution_count": 2
        }
      ]
    },
    {
      "cell_type": "markdown",
      "source": [
        "## N Reinas - Algoritmo con la técnica vuelta atrás (backtracking)\n",
        "\n",
        "La técnica de vuelta atrás es utilizada para resolver el problema de las N-reinas, donde se debe encontrar una disposición de N reinas en un tablero de ajedrez de NxN, tal que ninguna reina amenace a otra.\n",
        "\n",
        "La técnica de vuelta atrás consiste en ir colocando reinas en una columna a la vez y retrocediendo cuando se llega a una configuración inválida. Este algoritmo busca exhaustivamente todas las soluciones posibles hasta encontrar una solución válida."
      ],
      "metadata": {
        "id": "oq9yg01NmVbx"
      }
    },
    {
      "cell_type": "code",
      "source": [
        "# N Reinas - Vuelta Atrás()\n",
        "\n",
        "# Verifica que en la solución parcial no hay amenzas entre reinas\n",
        "def es_prometedora(SOLUCION, etapa):\n",
        "  \n",
        "  # Verifica si dos reinas estan en la misma fila (la solución tiene dos valores iguales)\n",
        "  for i in range(etapa+1):\n",
        "    if SOLUCION.count(SOLUCION[i]) > 1:\n",
        "      return False\n",
        "  \n",
        "    # Verifica si dos reinas estan en la misma diagonales\n",
        "    for j in range(i+1, etapa +1 ):\n",
        "      if abs(i-j) == abs(SOLUCION[i]-SOLUCION[j]) : return False\n",
        "  return True\n",
        "\n",
        "# Esta función traduce la solución al tablero y lo imprime\n",
        "def escribe_solucion(S):\n",
        "  n = len(S)\n",
        "  for x in range(n):\n",
        "    print(\"\")\n",
        "    for i in range(n):\n",
        "      if S[i] == x+1:\n",
        "        print(\" X \" , end=\"\")\n",
        "      else:\n",
        "        print(\" - \", end=\"\")\n",
        "\n",
        "# Proceso principal de N-Reinas (recursivo)\n",
        "def reinas(N, solucion=[],etapa=0): \n",
        "  if len(solucion) == 0:\n",
        "    solucion = [0 for i in range(N)]  \n",
        "  for i in range(1, N+1):\n",
        "    solucion[etapa] = i\n",
        "    if es_prometedora(solucion, etapa):\n",
        "      if etapa == N-1:\n",
        "        print(solucion)\n",
        "      else:  \n",
        "        reinas(N, solucion, etapa+1)\n",
        "    else:\n",
        "      None\n",
        "  solucion[etapa] = 0\n",
        "\n",
        "reinas(4,solucion=[],etapa=0)"
      ],
      "metadata": {
        "id": "RQG3TkJHmgLj",
        "colab": {
          "base_uri": "https://localhost:8080/"
        },
        "outputId": "225aeaa4-7041-4dd4-bbb2-ebedc787516d"
      },
      "execution_count": 3,
      "outputs": [
        {
          "output_type": "stream",
          "name": "stdout",
          "text": [
            "[2, 4, 1, 3]\n",
            "[3, 1, 4, 2]\n"
          ]
        }
      ]
    },
    {
      "cell_type": "code",
      "source": [
        "# Pintamos la solución que acabamos de obtener\n",
        "escribe_solucion([3, 1, 4, 2])"
      ],
      "metadata": {
        "colab": {
          "base_uri": "https://localhost:8080/"
        },
        "id": "60IdDcl0I2cP",
        "outputId": "c538cc72-b8c7-477a-9e2a-90d5da55bd7d"
      },
      "execution_count": 4,
      "outputs": [
        {
          "output_type": "stream",
          "name": "stdout",
          "text": [
            "\n",
            " -  X  -  - \n",
            " -  -  -  X \n",
            " X  -  -  - \n",
            " -  -  X  - "
          ]
        }
      ]
    },
    {
      "cell_type": "markdown",
      "source": [
        "# PRÁCTICA INDIVIDUAL - PUNTOS EXTRA\n",
        "\n",
        "### Problema: encontrar los dos puntos más cercanos\n",
        "- Dado un conjunto de puntos se trata de encontrar los dos puntos más cercanos\n",
        "- Guía para aprendizaje:\n",
        "\n",
        "> * Suponer en 1D, o sea, una lista de números: [3403, 4537, 9089, 9746, 7259, ….\n",
        "* Primer intento: Fuerza bruta\n",
        "* Calcular la complejidad. ¿Se puede mejorar?\n",
        "* Segundo intento. Aplicar Divide y Vencerás\n",
        "* Calcular la complejidad. ¿Se puede mejorar?\n",
        "* Extender el algoritmo a 2D: [(1122, 6175), (135, 4076), (7296, 2741)…\n",
        "* Extender el algoritmo a 3D.\n",
        "\n",
        "\n"
      ],
      "metadata": {
        "id": "c6IE5gCCFiKf"
      }
    },
    {
      "cell_type": "markdown",
      "source": [
        "La función `puntos_mas_cercanos` se encarga de encontrar los puntos más cercanos en una lista de puntos. Utiliza un enfoque de fuerza bruta, comparando todas las combinaciones posibles de puntos en la lista (es decir, compara cada par de puntos) y encuentra la combinación de puntos con la distancia mínima.\n",
        "\n",
        "La distancia entre dos puntos se calcula como `abs(puntos[i] - puntos[j])`, y se utiliza la función `abs` para calcular el valor absoluto de la diferencia, de modo que la distancia sea siempre un número positivo. La función devuelve la combinación de puntos más cercanos."
      ],
      "metadata": {
        "id": "rNe5UtbA9TjO"
      }
    },
    {
      "cell_type": "code",
      "source": [
        "def puntos_mas_cercanos(puntos):\n",
        "    # Inicializamos variables\n",
        "    distancia_min = float('inf')\n",
        "    puntos_mas_cercanos = None\n",
        "    # Inicializamos el algoritmo por fuerza bruta\n",
        "    for i in range(len(puntos)):\n",
        "        for j in range(i+1, len(puntos)):\n",
        "            # Calculamos la distancia entre dos puntos\n",
        "            distancia = abs(puntos[i] - puntos[j])\n",
        "            if distancia < distancia_min:\n",
        "                distancia_min = distancia\n",
        "                puntos_mas_cercanos = (puntos[i], puntos[j])\n",
        "    return puntos_mas_cercanos\n",
        "\n",
        "puntos = [3403, 4537, 9089, 9746, 7259]\n",
        "print(puntos_mas_cercanos(puntos))"
      ],
      "metadata": {
        "colab": {
          "base_uri": "https://localhost:8080/"
        },
        "id": "wQpmYEbaGASm",
        "outputId": "9f7d5105-9d89-437f-eaf8-3bcf92646b3e"
      },
      "execution_count": 5,
      "outputs": [
        {
          "output_type": "stream",
          "name": "stdout",
          "text": [
            "(9089, 9746)\n"
          ]
        }
      ]
    },
    {
      "cell_type": "markdown",
      "source": [
        "La complejidad de este algoritmo es $O(n^2)$ ya que estamos comparando cada número con cada otro número en la lista (hay dos ciclos `for` anidados que recorren todos los puntos en el array 'puntos').\n",
        "\n",
        "Vamos a ver el código para 2D, que resulta ser el mismo código, solo que ahora la distancia la calculamos con la norma euclidea:"
      ],
      "metadata": {
        "id": "IibdVMrGGsqV"
      }
    },
    {
      "cell_type": "code",
      "source": [
        "def puntos_mas_cercanos(puntos):\n",
        "    # Inicializamos variables\n",
        "    distancia_min = float('inf')\n",
        "    puntos_mas_cercanos = None\n",
        "    # Inicializamos el algoritmo por fuerza bruta\n",
        "    for i in range(len(puntos)):\n",
        "        for j in range(i+1, len(puntos)):\n",
        "            # Calculamos la distancia entre dos puntos, pero ahora con la norma euclidea\n",
        "            distancia = ((puntos[i][0] - puntos[j][0]) ** 2 + (puntos[i][1] - puntos[j][1]) ** 2)**(1/2) # Al elevar al 1/2 estamos calculando la raíz cuadrada\n",
        "            if distancia < distancia_min:\n",
        "                distancia_min = distancia\n",
        "                puntos_mas_cercanos = (puntos[i], puntos[j])\n",
        "    return puntos_mas_cercanos\n",
        "\n",
        "puntos = [(1122, 6175), (135, 4076), (7296, 2741)]\n",
        "print(puntos_mas_cercanos(puntos))\n"
      ],
      "metadata": {
        "colab": {
          "base_uri": "https://localhost:8080/"
        },
        "id": "64bb8SboHAKC",
        "outputId": "aa044d93-2a7a-467a-eae3-15d1704c70ab"
      },
      "execution_count": 6,
      "outputs": [
        {
          "output_type": "stream",
          "name": "stdout",
          "text": [
            "((1122, 6175), (135, 4076))\n"
          ]
        }
      ]
    },
    {
      "cell_type": "markdown",
      "source": [
        "Vamos a tratar de implementar el código utilizando el algoritmo de Divide y vencerás, haciendo sub-problemas del problema principal. La complejidad de este algoritmo es $O(nlogn)$ ya que estamos ordenando la lista y dividiendo recursivamente:"
      ],
      "metadata": {
        "id": "d3y63rXOJE0k"
      }
    },
    {
      "cell_type": "code",
      "source": [
        "#Divide y vencerás\n",
        "def puntos_mas_cercanos_dyv(puntos, izquierda, derecha):\n",
        "    if derecha - izquierda <= 3:\n",
        "        return puntos_mas_cercanos_fb(puntos, izquierda, derecha)\n",
        "    medio = (izquierda + derecha) // 2\n",
        "    izquierda_cercano = puntos_mas_cercanos_dyv(puntos, izquierda, medio)\n",
        "    derecha_cercano = puntos_mas_cercanos_dyv(puntos, medio, derecha)\n",
        "    par_cercano = izquierda_cercano if abs(izquierda_cercano[0] - izquierda_cercano[1]) < abs(derecha_cercano[0] - derecha_cercano[1]) else derecha_cercano\n",
        "    strip = [punto for punto in puntos if abs(punto - puntos[medio]) < abs(par_cercano[0] - par_cercano[1])]\n",
        "    return puntos_mas_cercanos(strip, par_cercano)\n",
        "\n",
        "#Fuerza bruta\n",
        "def puntos_mas_cercanos_fb(puntos, izquierda, derecha):\n",
        "    distancia_min = float('inf')\n",
        "    puntos_mas_cercanos = None\n",
        "    for i in range(izquierda, derecha):\n",
        "        for j in range(i+1, derecha):\n",
        "            distancia = abs(puntos[i] - puntos[j])\n",
        "            if distancia < distancia_min:\n",
        "                distancia_min = distancia\n",
        "                puntos_mas_cercanos = (puntos[i], puntos[j])\n",
        "    return puntos_mas_cercanos\n",
        "\n",
        "def puntos_mas_cercanos(strip, par_cercano):\n",
        "    strip = sorted(strip)\n",
        "    distancia_min = abs(par_cercano[0] - par_cercano[1])\n",
        "    for i in range(len(strip)):\n",
        "        for j in range(i+1, min(i + 8, len(strip))):\n",
        "            distancia = abs(strip[i] - strip[j])\n",
        "            if distancia < distancia_min:\n",
        "                distancia_min = distancia\n",
        "                par_cercano = (strip[i], strip[j])\n",
        "    return par_cercano \n",
        "\n",
        "puntos = [3403, 4537, 9089, 9746, 7259]\n",
        "puntos.sort()\n",
        "print(puntos_mas_cercanos_dyv(puntos, 0, len(puntos)))"
      ],
      "metadata": {
        "colab": {
          "base_uri": "https://localhost:8080/"
        },
        "id": "vKPw8a9kMs9n",
        "outputId": "3ecf7f78-ced5-4b7a-e87d-48eea6f022b4"
      },
      "execution_count": 7,
      "outputs": [
        {
          "output_type": "stream",
          "name": "stdout",
          "text": [
            "(9089, 9746)\n"
          ]
        }
      ]
    },
    {
      "cell_type": "markdown",
      "source": [
        "Y para 2D, el código quedaría de esta manera. Al igual que para el caso 1D, el cambio a 2D solo supone cambiar la forma en la que se calcula la distancia entre puntos, usando la norma euclidea:"
      ],
      "metadata": {
        "id": "w8uDNXbzND0G"
      }
    },
    {
      "cell_type": "code",
      "source": [
        "# Divide y vencerás\n",
        "def puntos_mas_cercanos_dyv(puntos, izquierda, derecha):\n",
        "    if derecha - izquierda <= 3:\n",
        "        return puntos_mas_cercanos_fb(puntos, izquierda, derecha)\n",
        "    medio = (izquierda + derecha) // 2\n",
        "    izquierda_cercano = puntos_mas_cercanos_dyv(puntos, izquierda, medio)\n",
        "    derecha_cercano = puntos_mas_cercanos_dyv(puntos, medio, derecha)\n",
        "    par_cercano = izquierda_cercano if abs(izquierda_cercano[0] - izquierda_cercano[1]) < abs(derecha_cercano[0] - derecha_cercano[1]) else derecha_cercano\n",
        "    strip = [punto for punto in puntos if abs(punto - puntos[medio]) < abs(par_cercano[0] - par_cercano[1])]\n",
        "    return puntos_mas_cercanos(strip, par_cercano)\n",
        "\n",
        "# Fuerza bruta (para cuando la lista es pequeña)\n",
        "def puntos_mas_cercanos_fb(puntos, izquierda, derecha):\n",
        "    distancia_min = float('inf')\n",
        "    puntos_mas_cercanos = None\n",
        "    for i in range(izquierda, derecha):\n",
        "        for j in range(i+1, derecha):\n",
        "            distancia = ((puntos[i][0] - puntos[j][0]) ** 2 + (puntos[i][1] - puntos[j][1]) ** 2)**(1/2)\n",
        "            if distancia < distancia_min:\n",
        "                distancia_min = distancia\n",
        "                puntos_mas_cercanos = (puntos[i], puntos[j])\n",
        "    return puntos_mas_cercanos\n",
        "\n",
        "def puntos_mas_cercanos(strip, par_cercano):\n",
        "    strip = sorted(strip)\n",
        "    distancia_min = abs(par_cercano[0] - par_cercano[1])\n",
        "    for i in range(len(strip)):\n",
        "        for j in range(i+1, min(i + 8, len(strip))):\n",
        "            distancia = abs(strip[i] - strip[j])\n",
        "            if distancia < distancia_min:\n",
        "                distancia_min = distancia\n",
        "                par_cercano = (strip[i], strip[j])\n",
        "    return par_cercano \n",
        "\n",
        "puntos = [(1122, 6175), (135, 4076), (7296, 2741)]\n",
        "print(puntos_mas_cercanos_dyv(puntos, 0, len(puntos)))\n"
      ],
      "metadata": {
        "id": "enG2xYNYNH-P",
        "colab": {
          "base_uri": "https://localhost:8080/"
        },
        "outputId": "f5618939-1bc3-47ea-859f-7d73b7e9b3f5"
      },
      "execution_count": 8,
      "outputs": [
        {
          "output_type": "stream",
          "name": "stdout",
          "text": [
            "((1122, 6175), (135, 4076))\n"
          ]
        }
      ]
    },
    {
      "cell_type": "markdown",
      "source": [
        "Comentar que para el caso 3D, solo habría que cambiar la linea de código en el que calculamos la distancia entre los dos puntos, y ampliarla a los 3, por lo que considero que no es necesario escribirlo de nuevo para no dar información redundante."
      ],
      "metadata": {
        "id": "W4XO2QQHOAed"
      }
    }
  ]
}