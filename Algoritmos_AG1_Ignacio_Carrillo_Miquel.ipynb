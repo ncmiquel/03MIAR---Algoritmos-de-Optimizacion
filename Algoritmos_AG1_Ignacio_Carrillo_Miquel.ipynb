{
  "nbformat": 4,
  "nbformat_minor": 0,
  "metadata": {
    "colab": {
      "provenance": [],
      "authorship_tag": "ABX9TyO0VmKswynwrxM3a5q3HeEB",
      "include_colab_link": true
    },
    "kernelspec": {
      "name": "python3",
      "display_name": "Python 3"
    },
    "language_info": {
      "name": "python"
    }
  },
  "cells": [
    {
      "cell_type": "markdown",
      "metadata": {
        "id": "view-in-github",
        "colab_type": "text"
      },
      "source": [
        "<a href=\"https://colab.research.google.com/github/ncmiquel/03MIAR---Algoritmos-de-Optimizacion/blob/main/Algoritmos_AG1_Ignacio_Carrillo_Miquel.ipynb\" target=\"_parent\"><img src=\"https://colab.research.google.com/assets/colab-badge.svg\" alt=\"Open In Colab\"/></a>"
      ]
    },
    {
      "cell_type": "markdown",
      "source": [
        "Nombre: Ignacio Carrillo Miquel <br>\n",
        "URL: https://colab.research.google.com/drive/1u76xud1rH8gaDiSwOyQrwaDIt5t7teYL?usp=sharing <br>\n",
        "Github: https://github.com/ncmiquel/03MIAR---Algoritmos-de-Optimizacion"
      ],
      "metadata": {
        "id": "dGw-RKD8QoBb"
      }
    },
    {
      "cell_type": "markdown",
      "source": [
        "## TORRES DE HANOI - Algoritmo de divide y vencerás"
      ],
      "metadata": {
        "id": "jmJGrPkGgH_l"
      }
    },
    {
      "cell_type": "code",
      "source": [
        "# Torres de Hanoi (divide y vencerás)\n",
        "\n",
        "def Torres_Hanoi(N, desde, hasta):\n",
        "  # N: nº de fichas\n",
        "  # desde: nº de poste desde\n",
        "  # hasta: nº de poste hasta\n",
        "\n",
        "  if N == 1:\n",
        "    print(\"Lleva la ficha desde \" + str(desde) + \" hasta \" + str(hasta))\n",
        "  \n",
        "  else:\n",
        "    Torres_Hanoi(N-1, desde, 6-desde-hasta)\n",
        "    print(\"Lleva la ficha desde \" + str(desde) + \" hasta \" + str(hasta))\n",
        "    Torres_Hanoi(N-1, 6-desde-hasta, hasta)\n",
        "\n",
        "Torres_Hanoi(3, 1, 3)"
      ],
      "metadata": {
        "colab": {
          "base_uri": "https://localhost:8080/"
        },
        "id": "JDUxkIqjUkY0",
        "outputId": "2fc066b2-395c-4a4f-8cbb-0460bfb0a20a"
      },
      "execution_count": null,
      "outputs": [
        {
          "output_type": "stream",
          "name": "stdout",
          "text": [
            "Lleva la ficha desde 1 hasta 3\n",
            "Lleva la ficha desde 1 hasta 2\n",
            "Lleva la ficha desde 3 hasta 2\n",
            "Lleva la ficha desde 1 hasta 3\n",
            "Lleva la ficha desde 2 hasta 1\n",
            "Lleva la ficha desde 2 hasta 3\n",
            "Lleva la ficha desde 1 hasta 3\n"
          ]
        }
      ]
    },
    {
      "cell_type": "markdown",
      "source": [
        "## Cambios de moneda - Algoritmo voraz\n",
        "\n",
        "Planteamos primero la solución del profesor, y vemos que el resultado es una lista con el número de monedas"
      ],
      "metadata": {
        "id": "VwFfBy-rgOOv"
      }
    },
    {
      "cell_type": "code",
      "source": [
        "# Cambio de monedas - Técnica voraz\n",
        "\n",
        "################################################################################\n",
        "SISTEMA = [12, 5 ,2, 1  ]\n",
        "################################################################\n",
        "def cambio_monedas(CANTIDAD,SISTEMA):\n",
        "#....\n",
        "  SOLUCION = [0]*len(SISTEMA)\n",
        "  ValorAcumulado = 0\n",
        "\n",
        "  for i,valor in enumerate(SISTEMA):\n",
        "    monedas = (CANTIDAD-ValorAcumulado)//valor\n",
        "    SOLUCION[i] = monedas\n",
        "    ValorAcumulado = ValorAcumulado + monedas*valor\n",
        "\n",
        "    if CANTIDAD == ValorAcumulado:\n",
        "      return SOLUCION\n",
        "\n",
        "  print(\"No es posible encontrar solucion\") \n",
        "cambio_monedas(15,SISTEMA)\n",
        "\n",
        "    \n",
        "################################################################\n",
        "\n"
      ],
      "metadata": {
        "colab": {
          "base_uri": "https://localhost:8080/"
        },
        "id": "giz5SP7tgOdR",
        "outputId": "04f7b112-6cc7-4a93-97eb-2ba6e080f14c"
      },
      "execution_count": null,
      "outputs": [
        {
          "output_type": "execute_result",
          "data": {
            "text/plain": [
              "[1, 0, 1, 1]"
            ]
          },
          "metadata": {},
          "execution_count": 6
        }
      ]
    },
    {
      "cell_type": "markdown",
      "source": [
        "Solución del compañero David: esencialmente se trata del mismo algoritmo, solo que define como solución un diccionario en lugar de una lista, en el cual guarda como clave el valor de la moneda del sistema, y como valor su valor. También define una variable menos (elimina la variable ValorAcumulado) que obtiene directamente."
      ],
      "metadata": {
        "id": "wA4pLXhql5_-"
      }
    },
    {
      "cell_type": "code",
      "source": [
        "def cambio_monedas(cantidad, sistema):\n",
        "  # cantidad: cantidad a cambiar\n",
        "  # sistema: valor de las monedas diferente, ordenado de mayor valor a menor\n",
        "  solucion = {} \n",
        "    cantidad -= monedas * v\n",
        "    if cantidad == 0:\n",
        "      return solucion\n",
        "\n",
        "sistema = [25, 10, 5, 1]\n",
        "cambio_monedas(15,sistema)\n",
        "  "
      ],
      "metadata": {
        "colab": {
          "base_uri": "https://localhost:8080/"
        },
        "id": "obku1Ey_l4Zy",
        "outputId": "fcf88aec-f579-4505-af2b-33bca229cbf5"
      },
      "execution_count": null,
      "outputs": [
        {
          "output_type": "execute_result",
          "data": {
            "text/plain": [
              "{11: 1, 5: 0, 1: 4}"
            ]
          },
          "metadata": {},
          "execution_count": 4
        }
      ]
    },
    {
      "cell_type": "markdown",
      "source": [
        "## N Reinas - Algoritmo con la técnica vuelta atrás (backtracking)"
      ],
      "metadata": {
        "id": "oq9yg01NmVbx"
      }
    },
    {
      "cell_type": "code",
      "source": [
        "#N Reinas - Vuelta Atrás()\n",
        "################################################################################\n",
        "\n",
        "#Verifica que en la solución parcial no hay amenzas entre reinas\n",
        "################################################################\n",
        "def es_prometedora(SOLUCION,etapa):\n",
        "################################################################\n",
        "  #print(SOLUCION)\n",
        "  #Si la solución tiene dos valores iguales no es valida => Dos reinas en la misma fila\n",
        "  for i in range(etapa+1):\n",
        "    #print(\"El valor \" + str(SOLUCION[i]) + \" está \" +  str(SOLUCION.count(SOLUCION[i])) + \" veces\")\n",
        "    if SOLUCION.count(SOLUCION[i]) > 1:       \n",
        "      return False\n",
        "  \n",
        "    #Verifica las diagonales\n",
        "    for j in range(i+1, etapa +1 ):\n",
        "      #print(\"Comprobando diagonal de \" + str(i) + \" y \" + str(j))\n",
        "      if abs(i-j) == abs(SOLUCION[i]-SOLUCION[j]) : return False\n",
        "  return True\n",
        "\n",
        "#Traduce la solución al tablero\n",
        "################################################################\n",
        "def escribe_solucion(S):\n",
        "################################################################\n",
        "  n = len(S)\n",
        "  for x in range(n):\n",
        "    print(\"\")\n",
        "    for i in range(n):\n",
        "      if S[i] == x+1:\n",
        "        print(\" X \" , end=\"\")\n",
        "      else:\n",
        "        print(\" - \", end=\"\")\n",
        "\n",
        "#Proceso principal de N-Reinas\n",
        "################################################################\n",
        "def reinas(N, solucion=[],etapa=0): \n",
        "################################################################\n",
        "### ....\n",
        "  if len(solucion) == 0:         # [0,0,0...]\n",
        "    solucion = [0 for i in range(N) ]\n",
        "  \n",
        "  for i in range(1, N+1):\n",
        "    solucion[etapa] = i\n",
        "    if es_prometedora(solucion, etapa):\n",
        "      if etapa == N-1:\n",
        "        print(solucion)\n",
        "      else:  \n",
        "        reinas(N, solucion, etapa+1)\n",
        "    else:\n",
        "      None\n",
        "  \n",
        "  solucion[etapa] = 0\n",
        "\n",
        "reinas(4,solucion=[],etapa=0)"
      ],
      "metadata": {
        "id": "RQG3TkJHmgLj",
        "colab": {
          "base_uri": "https://localhost:8080/"
        },
        "outputId": "da018659-e0ad-40e1-c17d-70d357261c3f"
      },
      "execution_count": null,
      "outputs": [
        {
          "output_type": "stream",
          "name": "stdout",
          "text": [
            "[2, 4, 1, 3]\n",
            "[3, 1, 4, 2]\n"
          ]
        }
      ]
    },
    {
      "cell_type": "code",
      "source": [
        "escribe_solucion([3, 1, 4, 2])"
      ],
      "metadata": {
        "colab": {
          "base_uri": "https://localhost:8080/"
        },
        "id": "60IdDcl0I2cP",
        "outputId": "506fce32-bf30-4aa2-ce60-a11566bd4a32"
      },
      "execution_count": null,
      "outputs": [
        {
          "output_type": "stream",
          "name": "stdout",
          "text": [
            "\n",
            " -  X  -  - \n",
            " -  -  -  X \n",
            " X  -  -  - \n",
            " -  -  X  - "
          ]
        }
      ]
    },
    {
      "cell_type": "markdown",
      "source": [
        "# Practica individual\n",
        "\n",
        "### Problema: encontrar los dos puntos más cercanos\n",
        "- Dado un conjunto de puntos se trata de encontrar los dos puntos más cercanos\n",
        "- Guía para aprendizaje:\n",
        "\n",
        "> * Suponer en 1D, o sea, una lista de números: [3403, 4537, 9089, 9746, 7259, ….\n",
        "* Primer intento: Fuerza bruta\n",
        "* Calcular la complejidad. ¿Se puede mejorar?\n",
        "* Segundo intento. Aplicar Divide y Vencerás\n",
        "* Calcular la complejidad. ¿Se puede mejorar?\n",
        "* Extender el algoritmo a 2D: [(1122, 6175), (135, 4076), (7296, 2741)…\n",
        "* Extender el algoritmo a 3D.\n",
        "\n",
        "\n"
      ],
      "metadata": {
        "id": "c6IE5gCCFiKf"
      }
    },
    {
      "cell_type": "code",
      "source": [
        "def puntos_mas_cercanos(puntos):\n",
        "    distancia_min = float('inf')\n",
        "    puntos_mas_cercanos = None\n",
        "    for i in range(len(puntos)):\n",
        "        for j in range(i+1, len(puntos)):\n",
        "            distancia = abs(puntos[i] - puntos[j])\n",
        "            if distancia < distancia_min:\n",
        "                distancia_min = distancia\n",
        "                puntos_mas_cercanos = (puntos[i], puntos[j])\n",
        "    return puntos_mas_cercanos\n",
        "\n",
        "puntos = [3403, 4537, 9089, 9746, 7259]\n",
        "print(puntos_mas_cercanos(puntos))"
      ],
      "metadata": {
        "colab": {
          "base_uri": "https://localhost:8080/"
        },
        "id": "wQpmYEbaGASm",
        "outputId": "034b7bcd-2dee-4ec0-f31e-0ab7ff21f68e"
      },
      "execution_count": null,
      "outputs": [
        {
          "output_type": "stream",
          "name": "stdout",
          "text": [
            "(9089, 9746)\n"
          ]
        }
      ]
    },
    {
      "cell_type": "markdown",
      "source": [
        "La complejidad de este algoritmo es $O(n^2)$ ya que estamos comparando cada número con cada otro número en la lista. Vamos a ver el código para 2D, que resulta ser el mismo código, solo que ahora la distancia la calculamos con la norma euclidea:"
      ],
      "metadata": {
        "id": "IibdVMrGGsqV"
      }
    },
    {
      "cell_type": "code",
      "source": [
        "def puntos_mas_cercanos(puntos):\n",
        "    distancia_min = float('inf')\n",
        "    puntos_mas_cercanos = None\n",
        "    for i in range(len(puntos)):\n",
        "        for j in range(i+1, len(puntos)):\n",
        "            distancia = ((puntos[i][0] - puntos[j][0]) ** 2 + (puntos[i][1] - puntos[j][1]) ** 2)**(1/2) # Al elevar al 1/2 estamos calculando la raíz cuadrada\n",
        "            if distancia < distancia_min:\n",
        "                distancia_min = distancia\n",
        "                puntos_mas_cercanos = (puntos[i], puntos[j])\n",
        "    return puntos_mas_cercanos\n",
        "\n",
        "puntos = [(1122, 6175), (135, 4076), (7296, 2741)]\n",
        "print(puntos_mas_cercanos(puntos))\n"
      ],
      "metadata": {
        "colab": {
          "base_uri": "https://localhost:8080/"
        },
        "id": "64bb8SboHAKC",
        "outputId": "e7bcede2-a2d1-4d3e-ba6c-28625928656d"
      },
      "execution_count": null,
      "outputs": [
        {
          "output_type": "stream",
          "name": "stdout",
          "text": [
            "((1122, 6175), (135, 4076))\n"
          ]
        }
      ]
    },
    {
      "cell_type": "markdown",
      "source": [
        "Vamos a tratar de implementar el código utilizando el algoritmo de Divide y vencerás, haciendo sub-problemas del problema principal. La complejidad de este algoritmo es $O(nlogn)$ ya que estamos ordenando la lista y dividiendo recursivamente:"
      ],
      "metadata": {
        "id": "d3y63rXOJE0k"
      }
    },
    {
      "cell_type": "code",
      "source": [
        "#Divide y vencerás\n",
        "def puntos_mas_cercanos_dyv(puntos, izquierda, derecha):\n",
        "    if derecha - izquierda <= 3:\n",
        "        return puntos_mas_cercanos_fb(puntos, izquierda, derecha)\n",
        "    medio = (izquierda + derecha) // 2\n",
        "    izquierda_cercano = puntos_mas_cercanos_dyv(puntos, izquierda, medio)\n",
        "    derecha_cercano = puntos_mas_cercanos_dyv(puntos, medio, derecha)\n",
        "    par_cercano = izquierda_cercano if abs(izquierda_cercano[0] - izquierda_cercano[1]) < abs(derecha_cercano[0] - derecha_cercano[1]) else derecha_cercano\n",
        "    strip = [punto for punto in puntos if abs(punto - puntos[medio]) < abs(par_cercano[0] - par_cercano[1])]\n",
        "    return puntos_mas_cercanos(strip, par_cercano)\n",
        "\n",
        "#Fuerza bruta\n",
        "def puntos_mas_cercanos_fb(puntos, izquierda, derecha):\n",
        "    distancia_min = float('inf')\n",
        "    puntos_mas_cercanos = None\n",
        "    for i in range(izquierda, derecha):\n",
        "        for j in range(i+1, derecha):\n",
        "            distancia = abs(puntos[i] - puntos[j])\n",
        "            if distancia < distancia_min:\n",
        "                distancia_min = distancia\n",
        "                puntos_mas_cercanos = (puntos[i], puntos[j])\n",
        "    return puntos_mas_cercanos\n",
        "\n",
        "def puntos_mas_cercanos(strip, par_cercano):\n",
        "    strip = sorted(strip)\n",
        "    distancia_min = abs(par_cercano[0] - par_cercano[1])\n",
        "    for i in range(len(strip)):\n",
        "        for j in range(i+1, min(i + 8, len(strip))):\n",
        "            distancia = abs(strip[i] - strip[j])\n",
        "            if distancia < distancia_min:\n",
        "                distancia_min = distancia\n",
        "                par_cercano = (strip[i], strip[j])\n",
        "    return par_cercano \n",
        "\n",
        "puntos = [3403, 4537, 9089, 9746, 7259]\n",
        "puntos.sort()\n",
        "print(puntos_mas_cercanos_dyv(puntos, 0, len(puntos)))"
      ],
      "metadata": {
        "colab": {
          "base_uri": "https://localhost:8080/"
        },
        "id": "vKPw8a9kMs9n",
        "outputId": "f6b6858e-8901-4965-a844-08593d451dd6"
      },
      "execution_count": null,
      "outputs": [
        {
          "output_type": "stream",
          "name": "stdout",
          "text": [
            "(9089, 9746)\n"
          ]
        }
      ]
    },
    {
      "cell_type": "markdown",
      "source": [
        "Y para 2D, el código quedaría de esta manera. Al igual que para el caso 1D, el cambio a 2D solo supone cambiar la forma en la que se calcula la distancia entre puntos, usando la norma euclidea:"
      ],
      "metadata": {
        "id": "w8uDNXbzND0G"
      }
    },
    {
      "cell_type": "code",
      "source": [
        "# Divide y vencerás\n",
        "def puntos_mas_cercanos_dyv(puntos, izquierda, derecha):\n",
        "    if derecha - izquierda <= 3:\n",
        "        return puntos_mas_cercanos_fb(puntos, izquierda, derecha)\n",
        "    medio = (izquierda + derecha) // 2\n",
        "    izquierda_cercano = puntos_mas_cercanos_dyv(puntos, izquierda, medio)\n",
        "    derecha_cercano = puntos_mas_cercanos_dyv(puntos, medio, derecha)\n",
        "    par_cercano = izquierda_cercano if abs(izquierda_cercano[0] - izquierda_cercano[1]) < abs(derecha_cercano[0] - derecha_cercano[1]) else derecha_cercano\n",
        "    strip = [punto for punto in puntos if abs(punto - puntos[medio]) < abs(par_cercano[0] - par_cercano[1])]\n",
        "    return puntos_mas_cercanos(strip, par_cercano)\n",
        "\n",
        "# Fuerza bruta (para cuando la lista es pequeña)\n",
        "def puntos_mas_cercanos_fb(puntos, izquierda, derecha):\n",
        "    distancia_min = float('inf')\n",
        "    puntos_mas_cercanos = None\n",
        "    for i in range(izquierda, derecha):\n",
        "        for j in range(i+1, derecha):\n",
        "            distancia = ((puntos[i][0] - puntos[j][0]) ** 2 + (puntos[i][1] - puntos[j][1]) ** 2)**(1/2)\n",
        "            if distancia < distancia_min:\n",
        "                distancia_min = distancia\n",
        "                puntos_mas_cercanos = (puntos[i], puntos[j])\n",
        "    return puntos_mas_cercanos\n",
        "\n",
        "def puntos_mas_cercanos(strip, par_cercano):\n",
        "    strip = sorted(strip)\n",
        "    distancia_min = abs(par_cercano[0] - par_cercano[1])\n",
        "    for i in range(len(strip)):\n",
        "        for j in range(i+1, min(i + 8, len(strip))):\n",
        "            distancia = abs(strip[i] - strip[j])\n",
        "            if distancia < distancia_min:\n",
        "                distancia_min = distancia\n",
        "                par_cercano = (strip[i], strip[j])\n",
        "    return par_cercano \n",
        "\n",
        "puntos = [(1122, 6175), (135, 4076), (7296, 2741)]\n",
        "print(puntos_mas_cercanos_dyv(puntos, 0, len(puntos)))\n"
      ],
      "metadata": {
        "id": "enG2xYNYNH-P"
      },
      "execution_count": null,
      "outputs": []
    },
    {
      "cell_type": "markdown",
      "source": [
        "Comentar que para el caso 3D, solo habría que cambiar la linea de código en el que calculamos la distancia entre los dos puntos, y ampliarla a los 3, por lo que considero que no es necesario escribirlo de nuevo para no dar información redundante."
      ],
      "metadata": {
        "id": "W4XO2QQHOAed"
      }
    }
  ]
}