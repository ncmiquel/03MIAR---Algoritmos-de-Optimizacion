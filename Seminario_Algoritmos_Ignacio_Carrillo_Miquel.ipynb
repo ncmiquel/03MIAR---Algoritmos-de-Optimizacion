{
  "cells": [
    {
      "cell_type": "markdown",
      "metadata": {
        "id": "view-in-github",
        "colab_type": "text"
      },
      "source": [
        "<a href=\"https://colab.research.google.com/github/ncmiquel/03MIAR---Algoritmos-de-Optimizacion/blob/main/Seminario_Algoritmos_Ignacio_Carrillo_Miquel.ipynb\" target=\"_parent\"><img src=\"https://colab.research.google.com/assets/colab-badge.svg\" alt=\"Open In Colab\"/></a>"
      ]
    },
    {
      "cell_type": "markdown",
      "metadata": {
        "id": "hVbXYX-RfPWh"
      },
      "source": [
        "# Algoritmos de optimización - Seminario<br>\n",
        "Nombre y Apellidos: Ignacio Carrillo Miquel   <br>\n",
        "Url: https://github.com/ncmiquel/03MIAR---Algoritmos-de-Optimizacion<br>\n",
        "Problema: Sesiones de doblaje <br>\n",
        "\n",
        "*Descripción del problema*:\n",
        "\n",
        "Se precisa coordinar el doblaje de una película. Los actores del doblaje deben coincidir en las tomas en las que sus personajes aparecen juntos en las diferentes tomas. Los actores de doblaje cobran todos la misma cantidad por cada día que deben desplazarse hasta el estudio de grabación independientemente del número de tomas que se graben. No es posible grabar más de 6 tomas por día. El objetivo es planificar las sesiones por día de manera que el gasto por los servicios de los actores de doblaje sea el menor posible. Los datos son: <br>\n",
        "- Número de actores: 10 <br>\n",
        "- Número de tomas : 30<br>\n",
        "- Actores/Tomas : https://bit.ly/36D8IuK<br>\n",
        "\n",
        "- 1 indica que el actor participa en la toma\n",
        "- 0 en caso contrario"
      ]
    },
    {
      "cell_type": "markdown",
      "metadata": {
        "id": "ALRYPXOgzAOD"
      },
      "source": [
        "Importaremos las librerías necesarias para resolver el problema:"
      ]
    },
    {
      "cell_type": "code",
      "execution_count": null,
      "metadata": {
        "id": "YHitY8ahzAOE"
      },
      "outputs": [],
      "source": [
        "import random\n",
        "import itertools\n",
        "import math\n",
        "import copy"
      ]
    },
    {
      "cell_type": "markdown",
      "metadata": {
        "id": "YdB2hKAyzAOF"
      },
      "source": [
        "También definimos la matriz tomas_actores, en la que plasmamos qué actores intervienen en qué tomas. Los actores vienen respresentados en las columnas, y las tomas son las filas. Un 1 significa que el actor participa en una toma determinada, y un 0 significa que no participa:"
      ]
    },
    {
      "cell_type": "code",
      "execution_count": null,
      "metadata": {
        "id": "AiskKkzZfy4e"
      },
      "outputs": [],
      "source": [
        "# Matriz de datos en los que las columnas son los actores (10) y las filas (30) las tomas en las que intervienen. 1 significa que el actor interviene\n",
        "tomas_actores = [\n",
        "[1, 1, 1, 1, 1, 0, 0, 0, 0, 0],\n",
        "[0, 0, 1, 1, 1, 0, 0, 0, 0, 0],\n",
        "[0, 1, 0, 0, 1, 0, 1, 0, 0, 0],\n",
        "[1, 1, 0, 0, 0, 0, 1, 1, 0, 0],\n",
        "[0, 1, 0, 1, 0, 0, 0, 1, 0, 0],\n",
        "[1, 1, 0, 1, 1, 0, 0, 0, 0, 0],\n",
        "[1, 1, 0, 1, 1, 0, 0, 0, 0, 0],\n",
        "[1, 1, 0, 0, 0, 1, 0, 0, 0, 0],\n",
        "[1, 1, 0, 1, 0, 0, 0, 0, 0, 0],\n",
        "[1, 1, 0, 0, 0, 1, 0, 0, 1, 0],\n",
        "[1, 1, 1, 0, 1, 0, 0, 1, 0, 0],\n",
        "[1, 1, 1, 1, 0, 1, 0, 0, 0, 0],\n",
        "[1, 0, 0, 1, 1, 0, 0, 0, 0, 0],\n",
        "[1, 0, 1, 0, 0, 1, 0, 0, 0, 0],\n",
        "[1, 1, 0, 0, 0, 0, 1, 0, 0, 0],\n",
        "[0, 0, 0, 1, 0, 0, 0, 0, 0, 1],\n",
        "[1, 0, 1, 0, 0, 0, 0, 0, 0, 0],\n",
        "[0, 0, 1, 0, 0, 1, 0, 0, 0, 0],\n",
        "[1, 0, 1, 0, 0, 0, 0, 0, 0, 0],\n",
        "[1, 0, 1, 1, 1, 0, 0, 0, 0, 0],\n",
        "[0, 0, 0, 0, 0, 1, 0, 1, 0, 0],\n",
        "[1, 1, 1, 1, 0, 0, 0, 0, 0, 0],\n",
        "[1, 0, 1, 0, 0, 0, 0, 0, 0, 0],\n",
        "[0, 0, 1, 0, 0, 1, 0, 0, 0, 0],\n",
        "[1, 1, 0, 1, 0, 0, 0, 0, 0, 1],\n",
        "[1, 0, 1, 0, 1, 0, 0, 0, 1, 0],\n",
        "[0, 0, 0, 1, 1, 0, 0, 0, 0, 0],\n",
        "[1, 0, 0, 1, 0, 0, 0, 0, 0, 0],\n",
        "[1, 0, 0, 0, 1, 1, 0, 0, 0, 0],\n",
        "[1, 0, 0, 1, 0, 0, 0, 0, 0, 0]]"
      ]
    },
    {
      "cell_type": "markdown",
      "metadata": {
        "id": "3_-exlrTgLd-"
      },
      "source": [
        "### (*)¿Cuantas posibilidades hay sin tener en cuenta las restricciones?<br>\n",
        "\n",
        "\n",
        "\n",
        "¿Cuantas posibilidades hay teniendo en cuenta todas las restricciones.\n",
        "\n",
        "\n"
      ]
    },
    {
      "cell_type": "markdown",
      "metadata": {
        "id": "WfCUqJyKhPcw"
      },
      "source": [
        "Según lo planteado en el problema, el objetivo es planificar las sesiones de grabación por día, de forma que el gasto por la participación de los actores de doblaje sea mínimo. En el caso de que no tuviésemos restricciones, la forma que tendrían las posibles soluciones para planificar las sesiones de grabación, serían todas las combinaciones que pudiésemos hacer con 30 elementos. Podemos asimilar este problema, sin restricciones, a una permutación sin repetición, en el cual un conjunto de 30 elementos diferentes (las tomas en este caso) consiste en cualquier ordenación que se pueda hacer con estos elementos, teniendo en cuenta que el orden de secuenciación importa. Por tanto, el número de combinaciones posibles es de:\n",
        "\n",
        "$$P_{n} = n · (n − 1) · (n − 2) · · · 3 · 2 · 1 = n!$$\n",
        "$$P_{30} = 30! = 2.652528598121913·10^{32}$$\n",
        "\n",
        "Solo con ver el número $2.652528598121913·10^{32}$ de posibilidades, una cantidad inabordable para resolver con fuerza bruta.\n",
        "\n",
        "No obstante, el problema cuenta con restricciones. La primera de ellas es que todos los actores cobran la misma cantidad por día de grabación, independientemente de las tomas que graben. Una segunda restricción es que no se pueden grabar más de 6 tomas por día. Teniendo en cuenta estas restricciones, lo que tenemos en este caso es una variación sin repetición, consiste en tomar k elementos (6 tomas) dentro de un conjunto de n elementos (30 tomas) y contar las posibles elecciones, teniendo en cuenta que no pueden elegirse más de una vez un mismo elemento y que el orden de elección importa. El número de posibilidades es, en este caso,\n",
        "\n",
        "$$V_{n}^{k} = n · (n − 1) · (n − 2) · · · (n − k + 1) = \\frac{n!}{(n-k)!}$$\n",
        "\n",
        "$$V_{30}^{6} = \\frac{30!}{(30-6)!} = 427.518.000$$\n",
        "\n",
        "Es decir, que con las restricciones, aún tenemos más de 427 millones de posibles combinaciones, un espacio de soluciones enorme."
      ]
    },
    {
      "cell_type": "markdown",
      "metadata": {
        "id": "dzynfVJahHoY"
      },
      "source": [
        "### Modelo para el espacio de soluciones<br>\n",
        "(*) ¿Cual es la estructura de datos que mejor se adapta al problema? Argumentalo.(Es posible que hayas elegido una al principio y veas la necesidad de cambiar, arguméntalo)\n"
      ]
    },
    {
      "cell_type": "markdown",
      "metadata": {
        "id": "xFIJrOwKi2Ti"
      },
      "source": [
        "Para elegir este modelo para el espacio de soluciones, hemos tenido en cuenta las restricciones de las que partíamos: puesto que tenemos 30 tomas a grabar, es razonable asumir que, si se pueden grabar un máximo de 6 tomas por día, realicemos el trabajo en 5 días. Esto simplifica el planteamiento del problema, que ahora consistirá en ver qué 6 secuencias se graban en cada uno de los 5 días, de manera que los actores que participan graben el máximo número de tomas. Esto hará que minimicemos el gasto de servicios por los actores de doblaje.\n",
        "\n",
        "Teniendo en cuenta lo que acabamos de exponer, hemos elegido un modelo para el espacio de soluciones, una lista de la siguiente manera:"
      ]
    },
    {
      "cell_type": "code",
      "execution_count": null,
      "metadata": {
        "id": "38c-7-ejhJmA"
      },
      "outputs": [],
      "source": [
        "solucion_muestra = [[12, 30, 22, 24, 27, 7], [21, 19, 15, 9, 6, 11], [23, 8, 2, 4, 5, 26], [18, 13, 17, 28, 16, 10], [20, 25, 3, 29, 1, 14]]"
      ]
    },
    {
      "cell_type": "markdown",
      "metadata": {
        "id": "EX8Dsb9zzAOO"
      },
      "source": [
        "Esta lista, contiene 5 sublistas, correspondientes cada una a un día de grabación. La primera sublista corresponde al día 1, la segunda al 2, y así sucesivamente. Dentro de cada sublista se encuentran las tomas que se grabarán en el día correspondiente. En el ejemplo mostrado, en el primer día se grabarían las tomas 12, 30, 22, 24, 27 y 7."
      ]
    },
    {
      "cell_type": "markdown",
      "metadata": {
        "id": "7Z9U2W7bi-XS"
      },
      "source": [
        "### Según el modelo para el espacio de soluciones<br>\n",
        "(*)¿Cual es la función objetivo?\n",
        "\n",
        "(*)¿Es un problema de maximización o minimización?"
      ]
    },
    {
      "cell_type": "markdown",
      "metadata": {
        "id": "hBalWLM7j1_d"
      },
      "source": [
        "Dadas las explicaciones sobre el problema que hemos dado hasta el momento, podemos ya establecer que la **función objetivo se va a centrar en minimizar** los costes por los servicios de los actores de doblaje. Puesto que hemos definido la estructura que va a adoptar el espacio de soluciones (5 días de doblaje, a razón de 6 tomas por día), lo que queda por determinar es qué secuencias se grabarán en un día. El objetivo es intentar aprovechar el hecho de que un actor cobra lo mismo por un día de grabación, ya sea una toma o el máximo de seis, y también que todos los actores cobran lo mismo.\n",
        "\n",
        "Hemos llamado **coste** a nuestra función objetivo, de manera que ésta nos calcula la cantidad necesaria de sueldos de actores para grabar la secuencia de doblaje planteada en las tomas y días de una solución dada. No obstante, pudiendo haber planteado el código en una única función de coste, hemos decidido hacerlo en dos funciones distintas. La razón se verá al estudiar el funcionamiento de cada una de ellas.\n",
        "\n",
        "La primera, la función **actores_que_intervienen**, recibe como argumento una lista de tomas que se harán en un día. Esta lista tiene la forma: [1, 2, 3, 4, 5, 6]. La función determina mediante la matriz **tomas_actores**, qué actores están presentes en las tomas de la lista, y por tanto de ese día. En el caso de que un actor participe en más de una toma, la función solo devuelve el actor una única vez.\n",
        "\n",
        "La segunda función, **coste**, recibe como argumento una lista con una posible solución (véase la **solucion_muestra** anterior), y lo que hace es recorrer todas las sublistas y determinar qué actores participan en cada día. Como resultado devuelve la suma de todos los actores necesarios para realizar la secuencia de grabación planteada en la solución, y por tanto de su coste.\n",
        "\n",
        "La razón de separar en dos las funciones es que, si decidiéramos profundizar en la planificación de las sesiones de grabación (cosa que no haremos en el presente trabajo), con la primera función sería muy fácil determinar los actores que intervienen cada día, por lo que sería mucho más fácil citarlos al estudio."
      ]
    },
    {
      "cell_type": "code",
      "execution_count": null,
      "metadata": {
        "id": "pDA-rg3Gj5Lz"
      },
      "outputs": [],
      "source": [
        "# Función que, dada una lista de tomas, devuelve una tupla de qué actores intervienen en la misma (sin repetir los actores para asegurarnos un coste minimo)\n",
        "def actores_que_intervienen(lista_tomas, tomas_actores = tomas_actores):\n",
        "    lista = []\n",
        "    # Iteramos la lista solución con las tomas que se van a hacer en un día (lista_tomas)\n",
        "    for toma in lista_tomas:\n",
        "        # Iteramos sobre la matriz principal para llegar a la toma i\n",
        "        for i, fila in enumerate(tomas_actores):\n",
        "            if i == toma - 1:\n",
        "                for j, valor in enumerate(fila):\n",
        "                    if valor == 1:\n",
        "                        # Creamos una lista con los actores que hacen la toma i\n",
        "                        lista.append(j + 1)\n",
        "    # Finalmente, devolvemos el valor de la función aplicando la función set (que devuelve valores únicos)\n",
        "    return tuple(set(lista))"
      ]
    },
    {
      "cell_type": "code",
      "execution_count": null,
      "metadata": {
        "id": "cyuHnPYqzAOR"
      },
      "outputs": [],
      "source": [
        "# Función de coste de una solución: multiplicamos los actores que salen en un día por el número de tomas que hacen\n",
        "def coste(matriz_tomas_dias, tomas_actores = tomas_actores):\n",
        "    # Recorremos la matriz_tomas_dias, y nos quedamos en el desglose de cada día\n",
        "    coste = 0\n",
        "    for dia in matriz_tomas_dias:\n",
        "        # Para calcular el coste nos quedamos con el número de actores que intervienen en un día, de forma que optimicemos el gasto\n",
        "        coste += len(actores_que_intervienen(dia))\n",
        "    return coste # En realidad, el coste retornado será el número de sueldos de actores que deberemos pagar para los días de la solucion"
      ]
    },
    {
      "cell_type": "markdown",
      "metadata": {
        "id": "LQw7GRGAzAOR"
      },
      "source": [
        "Para probar la función de coste, lo probamos con la **solucion_muestra** que hemos dado antes:"
      ]
    },
    {
      "cell_type": "code",
      "execution_count": null,
      "metadata": {
        "id": "BTCoujg7zAOS",
        "outputId": "999b34b0-2d10-4c10-9983-0a3b58842b2e"
      },
      "outputs": [
        {
          "name": "stdout",
          "output_type": "stream",
          "text": [
            "39\n"
          ]
        }
      ],
      "source": [
        "print(coste(solucion_muestra))"
      ]
    },
    {
      "cell_type": "markdown",
      "metadata": {
        "id": "UmCrOYcezAOT"
      },
      "source": [
        "Como vemos, este valor de 39 significa que el estudio tendrá que pagar 39 sueldos de actores durante los 5 días de grabación. El objetivo de este trabajo será minimizar este valor con diferentes algoritmos."
      ]
    },
    {
      "cell_type": "markdown",
      "metadata": {
        "id": "rlnTYgY1j6I2"
      },
      "source": [
        "### Diseña un algoritmo para resolver el problema por fuerza bruta"
      ]
    },
    {
      "cell_type": "markdown",
      "metadata": {
        "id": "70rDgxYXkC8r"
      },
      "source": [
        "Un posible código por fuerza bruta, que no hemos conseguido ejecutar porque se demora mucho tiempo en la obtención de **todas_las_soluciones**, consiste en calcular con la librería Itertools todas las variaciones sin repetición para un grupo de 30 elementos, tomados de 6 en 6. Luego evaluamos la función de coste para cada variación y nos quedamos con la mejor. Un código por fuerza bruta ser vería así: "
      ]
    },
    {
      "cell_type": "markdown",
      "metadata": {
        "id": "ZE2BRzcdzAOT"
      },
      "source": [
        "# **¡¡CUIDADO ANTES DE EJECUTAR ESTE CÓDIGO!!**"
      ]
    },
    {
      "cell_type": "code",
      "execution_count": null,
      "metadata": {
        "id": "RMq19-1vzAOU"
      },
      "outputs": [],
      "source": [
        "# Definimos una función que usa la librería Itertools para calcular todas las variaciones sin repetición (más de 427 millones en nuestro problema)\n",
        "def variaciones_sin_repeticion(n, k):\n",
        "    conjunto = list(range(1, n + 1))\n",
        "    variaciones = list(itertools.permutations(conjunto, k))\n",
        "    return variaciones\n",
        "\n",
        "# Generamos todas las soluciones (para 30 elementos tomados en grupos de 6)\n",
        "todas_las_soluciones = variaciones_sin_repeticion(30, 6)\n",
        "\n",
        "# Inicializamos la variable mejor_coste con un valor infinito\n",
        "mejor_coste_fb = float('inf')\n",
        "\n",
        "# Comprobamos el coste de todas las soluciones y nos quedamos con la mejor\n",
        "for combinacion in todas_las_soluciones:\n",
        "    coste_solucion_fb = coste(list(combinacion))\n",
        "    if coste_solucion_fb < mejor_coste_fb:\n",
        "        mejor_coste_fb = coste_solucion_fb\n",
        "        mejor_solucion_fb = combinacion\n",
        "\n",
        "# Imprimimos la mejor solución\n",
        "print('La mejor solución es:', mejor_solucion_fb)\n",
        "print('Coste:', mejor_coste_fb)"
      ]
    },
    {
      "cell_type": "markdown",
      "metadata": {
        "id": "tgrnsC2nkFa8"
      },
      "source": [
        "### Calcula la complejidad del algoritmo por fuerza bruta"
      ]
    },
    {
      "cell_type": "markdown",
      "metadata": {
        "id": "9eUd3xwckP68"
      },
      "source": [
        "Este algoritmo tiene una complejidad computacional de $O(n!)$. La función **variaciones_sin_repeticion** utiliza la función itertools.permutations de Python, que genera todas las permutaciones posibles de un conjunto de elementos y las devuelve como una lista. El tamaño de esta lista es igual a $\\frac{n!}{(n-k)!}$, donde $n$ es el número de elementos en el conjunto (30) y $k$ es el tamaño de las permutaciones (6). Por lo tanto, como ya se ha dicho, la complejidad de este algoritmo es de $O(n!)$."
      ]
    },
    {
      "cell_type": "markdown",
      "metadata": {
        "id": "txbrmLmskReM"
      },
      "source": [
        "### (*)Diseña un algoritmo que mejore la complejidad del algortimo por fuerza bruta. Argumenta porque crees que mejora el algoritmo por fuerza bruta"
      ]
    },
    {
      "cell_type": "markdown",
      "metadata": {
        "id": "hLrVwt5QkZPD"
      },
      "source": [
        "Para este problema, nos hemos decantado por un algoritmo de búsqueda local, una técnica de optimización que se centra en encontrar el mínimo local de una función con restricciones. La función **busqueda_local** que vemos a continuación, toma como entrada una solución inicial y, mediante la utilización de la función **generar_vecinas**, se obtienen soluciones vecinas y se evalúan con la función coste. Si se encuentra una solución mejor, se actualiza la mejor solución y se prosigue con la búsqueda de nuevas soluciones vecinas. Este proceso se repetirá hasta que no se encuentre una solución mejor, lo que indica que se ha alcanzado un mínimo local.\n",
        "\n",
        "Es importante destacar que este algoritmo es una herramienta valiosa en la optimización de funciones con restricciones y es ampliamente utilizado en diversas áreas de investigación. A continuación podemos ver la implementación de ambas funciones:"
      ]
    },
    {
      "cell_type": "code",
      "execution_count": null,
      "metadata": {
        "id": "LC4zZqagzAOV"
      },
      "outputs": [],
      "source": [
        "# Función para generar soluciones vecinas \n",
        "# (nos basamos en un operador de vecindad 2-opt, aunque puede haber otros)\n",
        "def generar_vecinas(solucion, tomas_actores = tomas_actores):\n",
        "  # Generador de soluciones vecinas: intercambio aleatorio de varios elementos\n",
        "  mejor_solucion = []\n",
        "  mejor_coste = float('inf')\n",
        "  iteraciones = 0\n",
        "  vecina = copy.deepcopy(solucion)                        # Hacemos una deepcopy para no perder la matriz inicial de soluciones\n",
        "  # Recorremos todos los nodos en bucle doble para\n",
        "  # evaluar todos los intercambios\n",
        "  for i in range(len(solucion)):                          # Representa el nº total de sublistas\n",
        "    for j, element2 in enumerate(vecina[i]):              # Representa el nº de elementos de la lista i\n",
        "      lista_sublistas = list(range(len(vecina)))\n",
        "      lista_sublistas.remove(i)\n",
        "      for k in lista_sublistas:                           # Representa las sublistas que quedan habiendo eliminado la lista i\n",
        "        for l, element4 in enumerate(vecina[k]):          # Representa el nº total de elementos en la lista k\n",
        "          # Se genera una nueva solución \n",
        "          # intercambiando los dos nodos i,j:\n",
        "          vecina[i][j], vecina[k][l] = element4, element2\n",
        "          # Se evalua la nueva solución ...\n",
        "          coste_vecina = coste(vecina)\n",
        "          #... para guardarla si mejora las anteriores\n",
        "          if coste_vecina <= mejor_coste:\n",
        "              mejor_coste = coste_vecina\n",
        "              mejor_solucion = vecina\n",
        "          iteraciones += 1\n",
        "          vecina = copy.deepcopy(solucion)  # Volvemos a incializar la matriz para no mantener los cambios hechos en los bucles anteriores\n",
        "  return mejor_solucion"
      ]
    },
    {
      "cell_type": "markdown",
      "metadata": {
        "id": "jM3oZPQ7zAOV"
      },
      "source": [
        "Esta función **generar_vecinas** toma como entrada una solución inicial y devuelve la mejor solución encontrada. El algoritmo realiza esto realizando todos los intercambios posibles entre los elementos de la solución inicial y calificando el costo de cada solución vecina generada. Si una solución vecina tiene un costo mejor que la solución anterior, se convierte en la nueva solución mejor.\n",
        "\n",
        "El proceso se repite 30x6x4x6 veces (tamaño de los ciclos for), es decir, 4320 veces en cada evaluación hasta que se encuentre una solución local óptima. El coste de la solución se determina llamando a la función **coste** que hemos definido previamente. El código utiliza la librería *copy* para hacer una copia profunda de la solución inicial, lo que garantiza que la matriz inicial no se vea afectada por los cambios realizados en la búsqueda."
      ]
    },
    {
      "cell_type": "code",
      "execution_count": null,
      "metadata": {
        "id": "t9JypTUbzAOW"
      },
      "outputs": [],
      "source": [
        "# ALGORITMO DE BÚSQUEDA LOCAL\n",
        "#  Haremos un numero determinado de iteraciones, se para cuando no es posible mejorar.\n",
        "def busqueda_local(solucion, tomas_actores = tomas_actores):\n",
        "  mejor_solucion = []\n",
        "  \n",
        "  # Esta parte del código hace que siempre obtengamos el mismo resultado, ya que toma la variable solucion obtenida anteriormente\n",
        "  solucion_referencia = solucion\n",
        "  mejor_coste = coste(solucion_referencia)\n",
        "  # Contador para saber las iteraciones que hacemos\n",
        "  iteracion = 0\n",
        "  while(1):\n",
        "    # Incrementamos el contador\n",
        "    iteracion +=1\n",
        "    # Obtenemos la mejor vecina\n",
        "    vecina = generar_vecinas(solucion_referencia)\n",
        "    #... y la evaluamos para ver si mejoramos respecto a lo encontrado hasta el momento\n",
        "    coste_vecina = coste(vecina)\n",
        "    # Si no mejoramos hay que terminar. Hemos llegado a un minimo local(según nuestro operador de vencindad 2-opt)\n",
        "    if coste_vecina < mejor_coste:\n",
        "      # Guarda la mejor solución encontrada\n",
        "      mejor_solucion = vecina\n",
        "      mejor_coste = coste_vecina\n",
        "    else:\n",
        "      # print(\"En la iteracion\", iteracion, \"la mejor solución encontrada es:\", mejor_solucion)\n",
        "      # print(\"Coste:\", mejor_distancia)\n",
        "      return mejor_solucion\n",
        "    solucion_referencia = vecina\n",
        "  return mejor_solucion"
      ]
    },
    {
      "cell_type": "markdown",
      "metadata": {
        "id": "eGDB4K6uk1iN"
      },
      "source": [
        "### (*)Calcula la complejidad del algoritmo "
      ]
    },
    {
      "cell_type": "markdown",
      "metadata": {
        "id": "NhpTh_BPk1ms"
      },
      "source": [
        "La complejidad computacional de este algoritmo dependerá del tamaño de la solución y del número de iteraciones que se realizan. En el peor de los casos, el tiempo de ejecución será proporcional a la complejidad de la función **generar_vecinas** multiplicado por el número de iteraciones.\n",
        "\n",
        "Dado que la función **generar_vecinas** es un bucle anidado de cuatro ciclos, su complejidad temporal es de $O(n^4)$, donde n es el tamaño de la solución. Por lo tanto, en el peor de los casos, la complejidad temporal total será $O(n^4 * iteraciones)$. No estamos muy seguros de que este resultado para la complejidad sea muy ortodoxo, pero creemos que refleja el comportamiento del algoritmo.\n",
        "\n",
        "Sin embargo, en la práctica, el número de iteraciones que se requieren para encontrar una solución óptima puede ser muy pequeño en comparación con el tamaño de la solución. Por lo tanto, en la mayoría de los casos, la complejidad temporal del algoritmo será mucho menor que $O(n^4 * iteraciones)$."
      ]
    },
    {
      "cell_type": "markdown",
      "metadata": {
        "id": "3M6QjTsSkmYe"
      },
      "source": [
        "### Según el problema, diseña un juego de datos de entrada aleatorios"
      ]
    },
    {
      "cell_type": "markdown",
      "metadata": {
        "id": "Jc3_OlyNkvjZ"
      },
      "source": [
        "Para diseñar un juego de datos de entrada aleatorio, escribimos la función **solucion_aleatoria()**. Se trata de un generador de soluciones aleatorias que genera una lista de números consecutivos del 1 al 30, mezcla aleatoriamente los elementos de la lista utilizando la función *random.shuffle()* y luego los divide en una matriz 5x6 dándole forma de solución factible. La función devuelve la matriz resultante como resultado."
      ]
    },
    {
      "cell_type": "code",
      "execution_count": null,
      "metadata": {
        "id": "sJ-N2etjkyWc"
      },
      "outputs": [],
      "source": [
        "# Generador de soluciones aleatorias\n",
        "def solucion_aleatoria():\n",
        "    # Crear lista de números del 1 al 30\n",
        "    numeros = list(range(1, 31))\n",
        "    # Mezclar los elementos de la lista\n",
        "    random.shuffle(numeros)\n",
        "    # Dividir la lista en una matriz 5x6\n",
        "    matriz_tomas_dias = [numeros[i:i+6] for i in range(0, len(numeros), 6)]\n",
        "    return matriz_tomas_dias"
      ]
    },
    {
      "cell_type": "code",
      "execution_count": null,
      "metadata": {
        "id": "JnEFDuqCzAOX",
        "outputId": "62f73a9e-b86a-4377-b270-c95afb7642e9"
      },
      "outputs": [
        {
          "name": "stdout",
          "output_type": "stream",
          "text": [
            "Solución aleatoria: [[10, 16, 23, 24, 17, 7], [25, 12, 8, 30, 19, 26], [6, 21, 14, 27, 2, 4], [15, 22, 3, 18, 13, 28], [9, 11, 29, 20, 5, 1]]\n",
            "Coste: 38\n"
          ]
        }
      ],
      "source": [
        "soluc_aleatoria = solucion_aleatoria()\n",
        "print('Solución aleatoria:', soluc_aleatoria)\n",
        "print('Coste:', coste(soluc_aleatoria))"
      ]
    },
    {
      "cell_type": "markdown",
      "metadata": {
        "id": "zy5ZROmjlGo1"
      },
      "source": [
        "### Aplica el algoritmo al juego de datos generado"
      ]
    },
    {
      "cell_type": "markdown",
      "metadata": {
        "id": "_Cmj-PVylMsa"
      },
      "source": [
        "Este código ejecuta el algoritmo de búsqueda local que recibe como entrada una solución aleatoria generada por la función **solucion_aleatoria()**. La función **busqueda_local** aplica una técnica de búsqueda local para encontrar una solución óptima o una solución de baja coste.\n",
        "\n",
        "Luego, se imprimen la solución inicial y el coste inicial, y la solución final y el coste final. La solución final es la solución encontrada por el algoritmo de búsqueda local y el coste final es el costo asociado a la solución final."
      ]
    },
    {
      "cell_type": "code",
      "execution_count": null,
      "metadata": {
        "id": "Jkx8GeiYlUz1",
        "outputId": "91dc042b-b49b-4c7d-ebda-526fa3ba198b"
      },
      "outputs": [
        {
          "name": "stdout",
          "output_type": "stream",
          "text": [
            "Solución inicial: [[21, 27, 17, 19, 5, 29], [23, 26, 24, 14, 2, 30], [6, 28, 9, 13, 15, 20], [7, 4, 3, 8, 11, 10], [1, 12, 25, 22, 18, 16]]\n",
            "Coste inicial: 35\n",
            "Solución final: [[21, 27, 17, 19, 5, 11], [23, 26, 24, 14, 2, 30], [6, 28, 1, 13, 7, 20], [15, 4, 3, 8, 29, 10], [9, 12, 25, 22, 18, 16]]\n",
            "Coste final: 31\n",
            "Porcentaje de mejora de la solución: 11.4 %\n"
          ]
        }
      ],
      "source": [
        "# Ejecutamos el algoritmo de búsqueda local, tomando como entrada una solución aleatoria\n",
        "solucion_inicial = solucion_aleatoria()\n",
        "solucion_final = busqueda_local(solucion_inicial)\n",
        "coste_inicial = coste(solucion_inicial)\n",
        "coste_final = coste(solucion_final)\n",
        "\n",
        "# Imprimimos las soluciones\n",
        "print('Solución inicial:', solucion_inicial)\n",
        "print('Coste inicial:', coste_inicial)\n",
        "print('Solución final:', solucion_final)\n",
        "print('Coste final:', coste_final)\n",
        "print('Porcentaje de mejora de la solución:', round((coste_inicial - coste_final) / coste_inicial * 100, 1), '%')"
      ]
    },
    {
      "cell_type": "markdown",
      "metadata": {
        "id": "QQ2qL3FIzAOY"
      },
      "source": [
        "Vemos que siempre que ejecutamos el algoritmo, generamos soluciones significativamente mejores que la propiamente aleatoria.\n",
        "\n",
        "Por otro lado, podemos forzar en encontrar un valor de solución en concreto. El siguiente código es un bucle que ejecuta el algoritmo de búsqueda local hasta que encuentra una solución con un coste específico (dado por la variable *valor_objetivo*). Cada iteración del bucle genera una nueva solución aleatoria y utiliza el algoritmo de búsqueda local para optimizarla. El bucle continúa hasta que se encuentra una solución con un coste igual a *valor_objetivo*. Si se encuentra una solución con este coste, se guarda en las variables *mejor_solucion* y *mejor_coste*. Finalmente, se imprimen las soluciones encontradas."
      ]
    },
    {
      "cell_type": "code",
      "execution_count": null,
      "metadata": {
        "id": "5w_Fj9VTzAOY",
        "outputId": "7b9d4e20-705f-4e35-feda-42589a5a2d23"
      },
      "outputs": [
        {
          "name": "stdout",
          "output_type": "stream",
          "text": [
            "Solución encontrada: [[21, 29, 26, 8, 10, 11], [12, 13, 7, 1, 2, 20], [23, 17, 18, 14, 19, 24], [5, 15, 27, 4, 3, 6], [22, 25, 16, 9, 28, 30]]\n",
            "Coste: 27\n"
          ]
        }
      ],
      "source": [
        "# Vamos a ejecutar el algoritmo de búsqueda local, pero iterando el mismo hasta que encuentre el valor objetivo deseado\n",
        "\n",
        "# Aquí determinamos para qué valor debe parar de iterar el algoritmo cuando encuentre una solución\n",
        "valor_objetivo = 27\n",
        "\n",
        "# Inicializamos variable coste con un valor superior al objetivo para inicializar la iteración\n",
        "coste_sol = valor_objetivo + 10\n",
        "\n",
        "while coste_sol != valor_objetivo:\n",
        "  solucion = busqueda_local(solucion_aleatoria())\n",
        "  coste_sol = coste(solucion)\n",
        "  if coste_sol == valor_objetivo:\n",
        "    mejor_solucion = solucion\n",
        "    mejor_coste = coste(solucion)\n",
        "\n",
        "# Imprimimos las soluciones\n",
        "print('Solución encontrada:', mejor_solucion)\n",
        "print('Coste:', mejor_coste)"
      ]
    },
    {
      "cell_type": "markdown",
      "metadata": {
        "id": "Z7_eLjWtzAOZ"
      },
      "source": [
        "Después de probar varias veces este código, podemos decir lo siguiente:\n",
        "\n",
        "* Las mejores soluciones que hemos encontrado tienen un coste de 27. Es decir, el estudio deberá pagar el sueldo de 27 actores durante los 5 días de grabación de las tomas.\n",
        "* El tiempo medio que tarda el algoritmo en encontrar una solución con este coste, es de 1 o 2 minutos.\n",
        "* Hemos intentado encontrar una solución de 26 sin éxito, manteniendo el código en ejecución durante más de 300 minutos.\n",
        "\n",
        "Por lo tanto, según lo experimentado hasta el momento, podemos concluir que para este problema:\n",
        "\n",
        "* Es difícil encontrar soluciones por debajo de 27, al menos con las técnicas que hemos probado.\n",
        "* Esto no quiere decir que no se deban estudiar si existen soluciones con menor coste, aunque consideramos que será muy dificil y/o habrá muy pocas (si las hay)."
      ]
    },
    {
      "cell_type": "markdown",
      "metadata": {
        "id": "eTFWUJQrtGcv"
      },
      "source": [
        "### Enumera las referencias que has utilizado para llevar a cabo el trabajo"
      ]
    },
    {
      "cell_type": "markdown",
      "metadata": {
        "id": "YKQ_mRBttWsP"
      },
      "source": [
        "En este trabajo se han utilizado los apuntes y el manual de clase como materiales de referencia para la elaboración de los algoritmos. Estos materiales nos han permitido, creemos, adquirir una base sólida para la comprensión y aplicación de los conceptos teóricos necesarios para la elaboración de todo el código presentado."
      ]
    },
    {
      "cell_type": "markdown",
      "metadata": {
        "id": "kAkDPUyRtYyH"
      },
      "source": [
        "### Describe brevemente las lineas de como crees que es posible avanzar en el estudio del problema. Ten en cuenta incluso posibles variaciones del problema y/o variaciones al alza del tamaño"
      ]
    },
    {
      "cell_type": "markdown",
      "metadata": {
        "id": "IE0uZmo-tZu-"
      },
      "source": [
        "Para continuar con el estudio del problema, podríamos explorar diferentes estrategias y técnicas de optimización para mejorar los resultados obtenidos con la búsqueda local. Esto incluye la investigación de algoritmos de optimización más sofisticados como la optimización genética, del cual presentamos a continuación una muestra con la que hemos estado trabajando para tratar de mejorar estos resultados.\n",
        "\n",
        "También podemos comparar los resultados obtenidos con diferentes enfoques, como la optimización determinista, como podría ser un algoritmo de ramificación y poda. También con otros enfoques heurísticos, para evaluar las fortalezas y debilidades de cada uno. Esto puede proporcionar información valiosa sobre cómo mejorar los algoritmos existentes y desarrollar nuevos enfoques para abordar este tipo de problemas. En este sentido, presentamos también un algoritmo por enfriamiento simulado con el que también hemos estado trabajando.\n",
        "\n",
        "Además, podríamos variar las restricciones y las características del problema para hacerlo más difícil y ver cómo afecta a la eficiencia de los algoritmos. Por ejemplo, se podría aumentar el número de días y de tomas por día, o añadir nuevas restricciones en el espacio de soluciones y ver cómo se comportan los resultados."
      ]
    },
    {
      "cell_type": "markdown",
      "metadata": {
        "id": "fq1xn75mzAOa"
      },
      "source": [
        "# ALGORITMO GENÉTICO"
      ]
    },
    {
      "cell_type": "markdown",
      "metadata": {
        "id": "LlN7KoiXzAOb"
      },
      "source": [
        "A continuación presentaremos un código con una implementación de algoritmo genético para resolver este problema.\n",
        "\n",
        "En primer lugar crearemos dos funciones auxiliares, como son **cambia_elementos_azar** y **posicion_en_lista**, la primera de las cuales cambia al azar dos tomas entre dos sublistas diferentes, y la segunda determina en qué posición se encuentra un elemento dentro de una lista."
      ]
    },
    {
      "cell_type": "code",
      "execution_count": null,
      "metadata": {
        "id": "GpzLIftUzAOb"
      },
      "outputs": [],
      "source": [
        "# Función que cambia dos elementos aleatorios entre sublistas\n",
        "def cambia_elementos_azar(solucion):\n",
        "    # Esta rutina sirve para salir de minimos locales\n",
        "    # Elegimos dos puntos al azar y los cambiamos\n",
        "    i = random.randint(0, len(solucion) - 1)\n",
        "    j = random.randint(0, len(solucion) - 1)\n",
        "    while i == j:\n",
        "      j = random.randint(0, len(solucion) - 1)\n",
        "    k = random.randint(0, len(solucion[0]) - 1)\n",
        "    l = random.randint(0, len(solucion[0]) - 1)\n",
        "    # Hacemos el intercambio\n",
        "    solucion[i][k], solucion[j][l] = solucion[j][l], solucion[i][k]\n",
        "    return solucion"
      ]
    },
    {
      "cell_type": "code",
      "execution_count": null,
      "metadata": {
        "id": "ERvrUFdUzAOc"
      },
      "outputs": [],
      "source": [
        "# Función auxiliar para determinar en qué posición se encuentra un elemento (gen) en una lista\n",
        "def posicion_en_lista(lista, elemento):\n",
        "    for i, sublista in enumerate(lista):\n",
        "        if elemento in sublista:\n",
        "            indice_sublista = i\n",
        "            indice_elemento = sublista.index(elemento)\n",
        "            return indice_sublista, indice_elemento\n",
        "    return None, None\n",
        "\n",
        "# Función para devolver los elementos de una lista de sublistas\n",
        "def elementos_sublista(lista):\n",
        "    return [num for sublista in lista for num in sublista]"
      ]
    },
    {
      "cell_type": "markdown",
      "metadata": {
        "id": "1RSlOCPmzAOd"
      },
      "source": [
        "Creamos una población inicial de soluciones aleatorias con una probabilidad del 10% de incluir soluciones aún mejores. Esto lo hacemos para dar variedad a la población inicial:"
      ]
    },
    {
      "cell_type": "code",
      "execution_count": null,
      "metadata": {
        "id": "qKL7BrffzAOd"
      },
      "outputs": [],
      "source": [
        "# CREAMOS LA POBLACIÓN INICIAL\n",
        "\n",
        "def crear_población(individuos):\n",
        "    poblacion_inicial = []\n",
        "    menor_coste = float('inf')\n",
        "    # Obtendremos una población inicial de 1000 individuos\n",
        "    for i in range(individuos):\n",
        "        individuo = solucion_aleatoria()\n",
        "        # Guardamos la solución y su coste en la lista\n",
        "        poblacion_inicial.append((coste(individuo), individuo))\n",
        "        if coste(individuo) < menor_coste:\n",
        "            menor_coste = coste(individuo)\n",
        "        # Damos una probabilidad del 10% para que active este bucle y generar más diversidad\n",
        "        probabilidad = random.uniform(0,1)\n",
        "        if probabilidad < 0.1: # 10%\n",
        "            while coste(individuo) <= menor_coste - 2: # Se fuerza a que encuentre soluciones a mejor coste de lo que lo ha hecho hasta ese momento\n",
        "                individuo = solucion_aleatoria()\n",
        "                poblacion_inicial.append((coste(individuo), individuo))\n",
        "                menor_coste = coste(individuo)\n",
        "    return poblacion_inicial"
      ]
    },
    {
      "cell_type": "markdown",
      "metadata": {
        "id": "PCTq6tVPzAOd"
      },
      "source": [
        "Luego selecciona los padres a través de una selección por torneo entre diferentes individuos elegidos al azar. Podemos elegir los individuos que participan en el torneo con solo especificarlo. Por defecto, son 3 individuos."
      ]
    },
    {
      "cell_type": "code",
      "execution_count": null,
      "metadata": {
        "id": "DJGjXJ5pzAOd"
      },
      "outputs": [],
      "source": [
        "# SELECCIÓN DE PADRES: selección por torneo\n",
        "\n",
        "# Selección por torneo del mejor entre 3 individuos (o más si se especifica)\n",
        "def seleccion_por_torneo(poblacion, size=3):\n",
        "    torneo = random.sample(poblacion, size)\n",
        "    return min(torneo, key=lambda x: x[0])"
      ]
    },
    {
      "cell_type": "markdown",
      "metadata": {
        "id": "b6u5Zdu-zAOd"
      },
      "source": [
        " A continuación, cruzamos los genes de los padres para producir hijos, con una función de cruce. El método que utilizadmos es el de cambiar dos sublistas enteras, una del padre y otra de la madre, entre sí. Tratamos así de extender entre la población posibles genes que ayuden a mejorar la solución.\n",
        " \n",
        " Sabemos que este es uno de los puntos en los que debemos trabajar más para mejorar el rendimiento del algoritmo, y que no tenemos totalmente perfeccionado:"
      ]
    },
    {
      "cell_type": "code",
      "execution_count": null,
      "metadata": {
        "id": "rgdTFS-TzAOe"
      },
      "outputs": [],
      "source": [
        "# OBTENCIÓN DE HIJOS: método de cruzamiento (consideramos un cromosoma a una sublista)\n",
        "\n",
        "# Cruzamiento en varios puntos (cromosoma entero)\n",
        "def cruzamiento_de_genes(padre, madre, tomas_actores=tomas_actores):\n",
        "    # Realizamos entre 1 y 10 cruzamientos (elegidos al azar)\n",
        "    \n",
        "    # Elegimos dos sublistas al azar, del padre y de la madre, para intercambiar los cromosomas\n",
        "    slst1_index = random.randint(0, 4)\n",
        "    slst2_index = random.randint(0, 4)\n",
        "    \n",
        "    # Tenemos las dos sublistas\n",
        "    slst1 = padre[1][slst1_index]\n",
        "    slst2 = madre[1][slst2_index]\n",
        "\n",
        "    # Vamos a intercambiar los genes (una sublista entera)\n",
        "    # Intercambio para el padre\n",
        "    for i, gen in enumerate(slst2):\n",
        "        indx_slst1_pdre, indx_gen1_pdre = posicion_en_lista(padre[1], gen)\n",
        "        padre[1][indx_slst1_pdre][indx_gen1_pdre] = slst1[i]\n",
        "        padre[1][slst1_index][i] = gen\n",
        "\n",
        "    # Intercambio para la madre\n",
        "    for i, gen in enumerate(slst1):\n",
        "        indx_slst1_mdre, indx_gen1_mdre = posicion_en_lista(madre[1], gen)\n",
        "        madre[1][indx_slst1_mdre][indx_gen1_mdre] = slst2[i]\n",
        "        madre[1][slst2_index][i] = gen\n",
        "    \n",
        "    # Asignamos a los hijos los valores ya mezclados (después de hacer los intercambios)\n",
        "    hija = padre[1]\n",
        "    hijo = madre[1]\n",
        "    return (coste(hija), hija), (coste(hijo), hijo)"
      ]
    },
    {
      "cell_type": "markdown",
      "metadata": {
        "id": "Y6stAup9zAOe"
      },
      "source": [
        "Una vez tenemos la nueva población, podemos someter a mutación a los hijos generados, con una probabilidad por defecto del 1%, aunque podemos modificar este parámetro para evaluar la calidad de las soluciones:"
      ]
    },
    {
      "cell_type": "code",
      "execution_count": null,
      "metadata": {
        "id": "egIf-PUlzAOe"
      },
      "outputs": [],
      "source": [
        "# MUTACIÓN: aplicamos una mutación a un individuo con una probabilidad dada\n",
        "\n",
        "# Esta función solo tendrá efecto el 1% de las veces\n",
        "def mutacion(individuo, porcentaje = 1):\n",
        "    probabilidad = random.uniform(0,1)\n",
        "    if probabilidad > (porcentaje / 100):\n",
        "        # No se produce la mutación\n",
        "        return individuo\n",
        "    else:\n",
        "        resultado = cambia_elementos_azar(individuo[1])\n",
        "        return (coste(resultado), resultado)"
      ]
    },
    {
      "cell_type": "markdown",
      "metadata": {
        "id": "1Y5BihKvzAOe"
      },
      "source": [
        "Aquí es dónde ensamblamos el algoritmo genético, en el que por defecto, se obtendrán 1000 generaciones para una pobración dada, una selección por torneo de 3 y un porcentaje de mutación en la población del 1%. El algoritmo queda así:"
      ]
    },
    {
      "cell_type": "code",
      "execution_count": null,
      "metadata": {
        "id": "fcqtN1AbzAOe"
      },
      "outputs": [],
      "source": [
        "# ALGORITMO GENÉTICO: aplicamos todos los pasos anteriores\n",
        "\n",
        "def algoritmo_genetico(poblacion_inicial, n_generaciones = 1000, seleccion_torneo = 3, porcentaje_mutacion = 1, tomas_actores = tomas_actores):\n",
        "    # Aceptamos la población inicial\n",
        "    poblacion = poblacion_inicial\n",
        "    mejor_individuo = (39, [[12, 30, 22, 24, 27, 7], [21, 19, 15, 9, 6, 11], [23, 8, 2, 4, 5, 26], [18, 13, 17, 28, 16, 10], [20, 25, 3, 29, 1, 14]])\n",
        "    for i in range(n_generaciones):\n",
        "        # Inicializamos la nueva población\n",
        "        nueva_poblacion = []\n",
        "        for j in range(len(poblacion)//2):\n",
        "            # Seleccionamos los padres por torneo (al mejor de 10 en este caso)\n",
        "            padre1 = seleccion_por_torneo(poblacion, seleccion_torneo)\n",
        "            padre2 = seleccion_por_torneo(poblacion, seleccion_torneo)\n",
        "            # Obtenemos los hijos\n",
        "            hijo1, hijo2 = cruzamiento_de_genes(padre1, padre2)\n",
        "            # Aplicamos mutaciones a los hijos (se aplica en un 5% en este caso)\n",
        "            hijo1 = mutacion(hijo1, porcentaje_mutacion)\n",
        "            hijo2 = mutacion(hijo2, porcentaje_mutacion)\n",
        "            # Añadimos los hijos a la nueva población de individuos\n",
        "            nueva_poblacion.append(hijo1)\n",
        "            nueva_poblacion.append(hijo2)\n",
        "        poblacion = nueva_poblacion\n",
        "        poblacion = sorted(poblacion, key=lambda x: x[0])\n",
        "        mejor_individuo_poblacion = poblacion[0]\n",
        "        # Guardamos el mejor individuo de la nueva población, si es que mejora en anterior\n",
        "        if mejor_individuo_poblacion[0] < mejor_individuo[0]:\n",
        "            mejor_individuo = mejor_individuo_poblacion\n",
        "    return mejor_individuo"
      ]
    },
    {
      "cell_type": "markdown",
      "metadata": {
        "id": "ZZ8ZL0zBzAOf"
      },
      "source": [
        " Finalmente, ejecutamos el algoritmo completo, dónde podemos modificar los parámetros de población inicial, generaciones, seleccion por torneo y porcentaje de mutación (0-100%):"
      ]
    },
    {
      "cell_type": "code",
      "execution_count": null,
      "metadata": {
        "id": "6hm7wyaOzAOf",
        "outputId": "b1f24ae6-3d52-4b75-b18f-6206e5617297"
      },
      "outputs": [
        {
          "name": "stdout",
          "output_type": "stream",
          "text": [
            "(31, [[8, 14, 16, 29, 27, 3], [20, 2, 28, 30, 24, 25], [17, 18, 26, 19, 10, 12], [7, 11, 15, 6, 23, 5], [9, 22, 1, 4, 21, 13]])\n"
          ]
        }
      ],
      "source": [
        "# Ejecutamos el algoritmo genético\n",
        "solucion_genetica = algoritmo_genetico(crear_población(500), 1000, 5, 99)\n",
        "print(solucion_genetica)"
      ]
    },
    {
      "cell_type": "markdown",
      "metadata": {
        "id": "yYv9CXJzzAOf"
      },
      "source": [
        "Como vemos, no hemos obtenido una mala solución, pero no hemos conseguido mejorar las soluciones que hemos obtenido con el algoritmo de búsqueda local. Como ya hemos dicho antes, consideramos que investigando más en la función de cruce, podríamos tener mejores resultados."
      ]
    },
    {
      "cell_type": "markdown",
      "metadata": {
        "id": "hw2TZ5jxzAOf"
      },
      "source": [
        "# ALGORITMO POR ENFRIAMIENTO SIMULADO"
      ]
    },
    {
      "cell_type": "markdown",
      "metadata": {
        "id": "r0ZwJUEnzAOg"
      },
      "source": [
        "Por último, este código implementa un algoritmo de enfriamiento simulado para resolver el problema de grabación de las sesiones de doblaje. El enfriamiento simulado es un algoritmo de optimización basado en la simulación de procesos físicos y está diseñado para encontrar la solución óptima de un problema.\n",
        "\n",
        "El algoritmo funciona así: se comienza con una solución aleatoria y se busca una solución mejor en un entorno de soluciones vecinas. Se utiliza una función de probabilidad para aceptar peores soluciones en una etapa temprana del algoritmo, ya que permite explorar más soluciones antes de enfocarse en la mejor solución encontrada hasta ese momento. La temperatura se va bajando en cada iteración y esto hace que la probabilidad de aceptar soluciones peores vaya disminuyendo. Finalmente, la solución óptima es la mejor solución encontrada durante el proceso.\n",
        "\n",
        "El algoritmo se detiene cuando la temperatura alcanza un valor mínimo o cuando se alcanza un número máximo de iteraciones. En este código, la temperatura se detiene cuando alcanza 0.001, aunque este es uno de los parámetros que podemos modificar para ver el efecto que tiene."
      ]
    },
    {
      "cell_type": "code",
      "execution_count": null,
      "metadata": {
        "id": "y_9MtsT8zAOg"
      },
      "outputs": [],
      "source": [
        "# Funcion de probabilidad para aceptar peores soluciones\n",
        "def probabilidad(Ta, dist):\n",
        "  if random.random() < math.exp(-1*dist/Ta):\n",
        "    return True\n",
        "  else:\n",
        "    return False\n",
        "\n",
        "# Funcion de descenso de temperatura\n",
        "def bajar_temperatura(Ta):\n",
        "  return Ta*0.99                # Hay más funciones para ir bajando la temperatura\n",
        "  # return Ta / math.log(Ta)    # Hay más funciones para ir bajando la temperatura"
      ]
    },
    {
      "cell_type": "markdown",
      "metadata": {
        "id": "cHeuV1STzAOg"
      },
      "source": [
        "En el algoritmo de enfriamiento simulado, nos aprovechamos de la función **generar_vecinas** que hemos usado en *búsqueda local*, para encontrar una solución mejor que la dada. Iniciamos el algoritmo con una solución aleatoria:"
      ]
    },
    {
      "cell_type": "code",
      "execution_count": null,
      "metadata": {
        "id": "FSLy1U2uzAOg"
      },
      "outputs": [],
      "source": [
        "# Algoritmo de enfriamiento simulado\n",
        "def enfriamiento_simulado(problema = tomas_actores, Ta = 1000):\n",
        "  # Inicialicamos una solución aleatoria\n",
        "  solucion_referencia = solucion_aleatoria()\n",
        "  coste_referencia = coste(solucion_referencia)\n",
        "  # Inicializamos variables\n",
        "  mejor_solucion = []\n",
        "  menor_coste = float('inf')\n",
        "  \n",
        "  N = 0\n",
        "  # El algoritmo se mantiene mientras la temperatura es superior a este valor\n",
        "  while Ta > .001:\n",
        "    N += 1\n",
        "    # Genera una solución vecina\n",
        "    vecina = generar_vecinas(solucion_referencia)\n",
        "    # Calcula su valor(distancia)\n",
        "    coste_vecina = coste(vecina)\n",
        "    # Si es la mejor solución de todas se guarda(siempre!!!)\n",
        "    if coste_vecina < menor_coste:\n",
        "        mejor_solucion = vecina\n",
        "        menor_coste = coste_vecina\n",
        "    # Si la nueva vecina es mejor se cambia  \n",
        "    # Si es peor se cambia según una probabilidad que depende de T y delta(distancia_referencia - distancia_vecina)\n",
        "    if coste_vecina < coste_referencia or probabilidad(Ta, abs(coste_referencia - coste_vecina)):\n",
        "      solucion_referencia = vecina\n",
        "      coste_referencia = coste_vecina\n",
        "    # Bajamos la temperatura\n",
        "    Ta = bajar_temperatura(Ta)\n",
        "  return mejor_solucion"
      ]
    },
    {
      "cell_type": "markdown",
      "metadata": {
        "id": "pnNDrYcfzAOh"
      },
      "source": [
        "Por último ejecutamos el algoritmo de enfriamiento simulado:"
      ]
    },
    {
      "cell_type": "code",
      "execution_count": null,
      "metadata": {
        "id": "p5cMqXyTzAOh",
        "outputId": "1d404b49-505b-4f31-f7df-1849dfad8270"
      },
      "outputs": [
        {
          "name": "stdout",
          "output_type": "stream",
          "text": [
            "La mejor solución encontrada es [[3, 19, 4, 17, 11, 15], [12, 30, 18, 24, 28, 22], [9, 7, 13, 1, 20, 6], [21, 25, 10, 16, 8, 5], [2, 27, 14, 26, 29, 23]]\n",
            "con una coste total de 29\n"
          ]
        }
      ],
      "source": [
        "# Ejecutamos el algoritmo de enfriamiento simulado\n",
        "solucion_enfriamiento = enfriamiento_simulado()\n",
        "\n",
        "print(\"La mejor solución encontrada es\", solucion_enfriamiento)\n",
        "print(\"con una coste total de\", coste(solucion_enfriamiento))"
      ]
    },
    {
      "cell_type": "markdown",
      "metadata": {
        "id": "HKETHC5RzAOh"
      },
      "source": [
        "Como podemos ver, con este algoritmo podemos obtener tan buenas soluciones como con *búsqueda local* aunque, por falta de tiempo, tampoco hemos estudiado a fondo todos los parámetros que afectan al modelo."
      ]
    },
    {
      "cell_type": "markdown",
      "metadata": {
        "id": "z1TpB2cozAOh"
      },
      "source": [
        "### **CONCLUSIONES**"
      ]
    },
    {
      "cell_type": "markdown",
      "metadata": {
        "id": "W75nQV3nzAOh"
      },
      "source": [
        "Después de realizar este trabajo sobre diferentes algoritmos de optimización y búsqueda, podemos concluir que:\n",
        "\n",
        "* No existe un algoritmo que sea óptimo para todas las situaciones. El éxito de un algoritmo depende del problema y de los datos que se tienen a mano.\n",
        "* Es importante evaluar diferentes opciones y elegir el algoritmo que mejor se adapte al problema en cuestión.\n",
        "* La búsqueda local y el enfriamiento simulado son algoritmos que pueden ser efectivos en la optimización de funciones coste.\n",
        "* Algoritmos como el algoritmo genético pueden ser efectivos en la solución de problemas complejos y multivariables.\n",
        "* La elección del algoritmo óptimo depende de la naturaleza del problema y de los requisitos de tiempo y precisión."
      ]
    }
  ],
  "metadata": {
    "colab": {
      "provenance": [],
      "include_colab_link": true
    },
    "kernelspec": {
      "display_name": "Python 3",
      "language": "python",
      "name": "python3"
    },
    "language_info": {
      "codemirror_mode": {
        "name": "ipython",
        "version": 3
      },
      "file_extension": ".py",
      "mimetype": "text/x-python",
      "name": "python",
      "nbconvert_exporter": "python",
      "pygments_lexer": "ipython3",
      "version": "3.10.4"
    },
    "vscode": {
      "interpreter": {
        "hash": "0b68efdc46170d6c09df60c6e5c3ac1fd6e4d81b7dc57d0973e266a35e3256e4"
      }
    }
  },
  "nbformat": 4,
  "nbformat_minor": 0
}