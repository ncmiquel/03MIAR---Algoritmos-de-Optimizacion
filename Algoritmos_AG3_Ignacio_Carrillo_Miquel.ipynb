{
  "nbformat": 4,
  "nbformat_minor": 0,
  "metadata": {
    "colab": {
      "provenance": [],
      "authorship_tag": "ABX9TyPPGCKuzVH1oXrYDOAgipDd",
      "include_colab_link": true
    },
    "kernelspec": {
      "name": "python3",
      "display_name": "Python 3"
    },
    "language_info": {
      "name": "python"
    }
  },
  "cells": [
    {
      "cell_type": "markdown",
      "metadata": {
        "id": "view-in-github",
        "colab_type": "text"
      },
      "source": [
        "<a href=\"https://colab.research.google.com/github/ncmiquel/03MIAR---Algoritmos-de-Optimizacion/blob/main/Algoritmos_AG3_Ignacio_Carrillo_Miquel.ipynb\" target=\"_parent\"><img src=\"https://colab.research.google.com/assets/colab-badge.svg\" alt=\"Open In Colab\"/></a>"
      ]
    },
    {
      "cell_type": "markdown",
      "metadata": {
        "id": "Ofrcocl8c9RM"
      },
      "source": [
        "# **AG3 - ACTIVIDAD GUIADA 3<br>**\n",
        "Nombre: Ignacio Carrillo Miquel<br>\n",
        "https://github.com/ncmiquel/03MIAR---Algoritmos-de-Optimizacion \n",
        "\n",
        "https://colab.research.google.com/drive/1zMWLBrapRsRCnlCWmNYKiAiMzA_k8vbl?usp=sharing\n"
      ]
    },
    {
      "cell_type": "markdown",
      "source": [
        "# PROBLEMA DEL AGENTE VIAJERO\n",
        "\n",
        "Vamos a tratar de resolver el problema del agente viajero (TSP), en el que buscamos encontrar la ruta más corta que tenemos que hacer para visitar un conjunto determinado de ciudades y regresar a la ciudad de origen, visitando cada ciudad solo una vez.\n",
        "\n",
        "Así que, antes de nada, vamos a instalar las librerías que vamos a necesitar para esta práctica:"
      ],
      "metadata": {
        "id": "wlRwW4ybVnS2"
      }
    },
    {
      "cell_type": "code",
      "source": [
        "!pip install requests    # Hacer llamadas http a paginas de la red\n",
        "!pip install tsplib95    # Modulo para las instancias del problema del TSP"
      ],
      "metadata": {
        "colab": {
          "base_uri": "https://localhost:8080/",
          "height": 0
        },
        "id": "6qX2jvJKVnhW",
        "outputId": "ab7df20c-e44a-4e48-d91f-19eb2ef755e4"
      },
      "execution_count": 22,
      "outputs": [
        {
          "output_type": "stream",
          "name": "stdout",
          "text": [
            "Looking in indexes: https://pypi.org/simple, https://us-python.pkg.dev/colab-wheels/public/simple/\n",
            "Requirement already satisfied: requests in /usr/local/lib/python3.8/dist-packages (2.25.1)\n",
            "Requirement already satisfied: idna<3,>=2.5 in /usr/local/lib/python3.8/dist-packages (from requests) (2.10)\n",
            "Requirement already satisfied: urllib3<1.27,>=1.21.1 in /usr/local/lib/python3.8/dist-packages (from requests) (1.24.3)\n",
            "Requirement already satisfied: certifi>=2017.4.17 in /usr/local/lib/python3.8/dist-packages (from requests) (2022.12.7)\n",
            "Requirement already satisfied: chardet<5,>=3.0.2 in /usr/local/lib/python3.8/dist-packages (from requests) (4.0.0)\n",
            "Looking in indexes: https://pypi.org/simple, https://us-python.pkg.dev/colab-wheels/public/simple/\n",
            "Requirement already satisfied: tsplib95 in /usr/local/lib/python3.8/dist-packages (0.7.1)\n",
            "Requirement already satisfied: Deprecated~=1.2.9 in /usr/local/lib/python3.8/dist-packages (from tsplib95) (1.2.13)\n",
            "Requirement already satisfied: tabulate~=0.8.7 in /usr/local/lib/python3.8/dist-packages (from tsplib95) (0.8.10)\n",
            "Requirement already satisfied: networkx~=2.1 in /usr/local/lib/python3.8/dist-packages (from tsplib95) (2.8.8)\n",
            "Requirement already satisfied: Click>=6.0 in /usr/local/lib/python3.8/dist-packages (from tsplib95) (7.1.2)\n",
            "Requirement already satisfied: wrapt<2,>=1.10 in /usr/local/lib/python3.8/dist-packages (from Deprecated~=1.2.9->tsplib95) (1.14.1)\n"
          ]
        }
      ]
    },
    {
      "cell_type": "markdown",
      "source": [
        "Y también importaremos más librerías con las que trabajaremos:"
      ],
      "metadata": {
        "id": "ThibexUoiu4s"
      }
    },
    {
      "cell_type": "code",
      "source": [
        "import urllib.request # Hacer llamadas http a paginas de la red\n",
        "import tsplib95       # Modulo para las instancias del problema del TSP\n",
        "import math           # Modulo de funciones matematicas. Se usa para exp\n",
        "import random         # Para generar valores aleatorios "
      ],
      "metadata": {
        "id": "-ow715HvZOrV"
      },
      "execution_count": 23,
      "outputs": []
    },
    {
      "cell_type": "markdown",
      "source": [
        "Con estas instrucciones importamos a Google Colab el fichero con el que vamos a trabajar."
      ],
      "metadata": {
        "id": "Fu_EdTazi6Ui"
      }
    },
    {
      "cell_type": "code",
      "source": [
        "# Descargamos el fichero de datos (Matriz de distancias)\n",
        "file = \"swiss42.tsp\";\n",
        "urllib.request.urlretrieve(\"http://comopt.ifi.uni-heidelberg.de/software/TSPLIB95/tsp/swiss42.tsp.gz\", file + '.gz')\n",
        "!gzip -d swiss42.tsp.gz     # Descomprime el fichero de datos "
      ],
      "metadata": {
        "id": "16SJN865ZRtw"
      },
      "execution_count": 24,
      "outputs": []
    },
    {
      "cell_type": "markdown",
      "source": [
        "Empezamos con el problema importando los datos del fichero Swiss42 (carga del problema):"
      ],
      "metadata": {
        "id": "m8axXR47bB3Z"
      }
    },
    {
      "cell_type": "code",
      "source": [
        "# Carga de datos y generación de objeto problem\n",
        "problem = tsplib95.load(file)"
      ],
      "metadata": {
        "id": "elt3FNt0bF18"
      },
      "execution_count": 25,
      "outputs": []
    },
    {
      "cell_type": "markdown",
      "source": [
        "La función `get_weight` nos dice la distancia entre dos nodos, a partir de la intersección de los mismos:"
      ],
      "metadata": {
        "id": "_diWKvmGB5Ab"
      }
    },
    {
      "cell_type": "code",
      "source": [
        "# Nos dice la distancia del nodo 0 al nodo 5\n",
        "problem.get_weight(0, 7)"
      ],
      "metadata": {
        "colab": {
          "base_uri": "https://localhost:8080/",
          "height": 0
        },
        "id": "dmjAIWJKba7u",
        "outputId": "efdc90dd-6a56-4910-f966-f10e33e04d8f"
      },
      "execution_count": 26,
      "outputs": [
        {
          "output_type": "execute_result",
          "data": {
            "text/plain": [
              "37"
            ]
          },
          "metadata": {},
          "execution_count": 26
        }
      ]
    },
    {
      "cell_type": "markdown",
      "source": [
        "Generamos una lista con el número de los nodos y aristas del problema:"
      ],
      "metadata": {
        "id": "UM6GxjljEydU"
      }
    },
    {
      "cell_type": "code",
      "source": [
        "# Nodos\n",
        "Nodos = list(problem.get_nodes())\n",
        "\n",
        "# Aristas\n",
        "Aristas = list(problem.get_edges())"
      ],
      "metadata": {
        "id": "pn7e_Z56b1u3"
      },
      "execution_count": 27,
      "outputs": []
    },
    {
      "cell_type": "markdown",
      "source": [
        "Crearemos una solución aleatoria para comenzar con el algoritmo. Para ello crearemos esta función, que recorre todos los nodos, y elige aleatoriamente uno que no haya elegido:"
      ],
      "metadata": {
        "id": "JWw-WP8xdsxJ"
      }
    },
    {
      "cell_type": "code",
      "source": [
        "# Se genera una solucion aleatoria con comienzo en en el nodo 0\n",
        "def crear_solucion(Nodos): \n",
        "  solucion = [Nodos[0]]\n",
        "  for n in Nodos[1:]:\n",
        "    solucion = solucion + [random.choice(list(set(Nodos) - set({Nodos[0]}) - set(solucion)))]\n",
        "  return solucion"
      ],
      "metadata": {
        "id": "9NIKgK9bdeEE"
      },
      "execution_count": 28,
      "outputs": []
    },
    {
      "cell_type": "markdown",
      "source": [
        "Esta función devuelve la distancia entre dos nodos, a y b:"
      ],
      "metadata": {
        "id": "sdzKKXm-fc1-"
      }
    },
    {
      "cell_type": "code",
      "source": [
        "# Devuelve la distancia entre dos nodos\n",
        "def distancia(a,b, problem):\n",
        "  return problem.get_weight(a,b)"
      ],
      "metadata": {
        "id": "81XKeJXJfRZx"
      },
      "execution_count": 29,
      "outputs": []
    },
    {
      "cell_type": "markdown",
      "source": [
        "Esta función calcula la distancia total de una ruta establecida, es decir, entre todos los nodos de una solución específica:"
      ],
      "metadata": {
        "id": "YgFeEnQUfWhm"
      }
    },
    {
      "cell_type": "code",
      "source": [
        "# Devuelve la distancia total de una trayectoria/solucion\n",
        "def distancia_total(solucion, problem):\n",
        "  distancia_total = 0\n",
        "  for i in range(len(solucion)-1):\n",
        "    distancia_total += distancia(solucion[i] ,solucion[i+1],  problem)\n",
        "  return distancia_total + distancia(solucion[len(solucion)-1], solucion[0], problem)"
      ],
      "metadata": {
        "id": "cZCfQ0xcfam1"
      },
      "execution_count": 30,
      "outputs": []
    },
    {
      "cell_type": "markdown",
      "source": [
        "Para probar estas funciones, creamos una variable `s_random` y comprobamos que podemos crear una solución aleatoria a partir de los 42 nodos iniciales (comenzando siempre por el 0), así como, calcular la distancia de dicha ruta:"
      ],
      "metadata": {
        "id": "aRuKGmduHg67"
      }
    },
    {
      "cell_type": "code",
      "source": [
        "# Creamos una solución aleatoria para probar los resultados obtenidos al azar\n",
        "s_random = crear_solucion(Nodos)\n",
        "print(distancia_total(s_random, problem), s_random)"
      ],
      "metadata": {
        "colab": {
          "base_uri": "https://localhost:8080/",
          "height": 0
        },
        "id": "wMaE8N0Xf3K-",
        "outputId": "03a92859-2e03-46af-a5d4-c8b00a04cf49"
      },
      "execution_count": 31,
      "outputs": [
        {
          "output_type": "stream",
          "name": "stdout",
          "text": [
            "5427 [0, 40, 25, 34, 41, 26, 20, 30, 6, 9, 12, 18, 7, 24, 14, 22, 31, 21, 5, 32, 2, 10, 28, 4, 17, 8, 19, 15, 3, 36, 23, 33, 11, 29, 39, 13, 16, 38, 27, 37, 1, 35]\n"
          ]
        }
      ]
    },
    {
      "cell_type": "markdown",
      "source": [
        "Comenzamos el problema buscando una solución aleatoria. Una vez definida la función `busqueda_aleatoria`, en la que podemos determinar el número de iteraciones que deseamos, nos quedaremos con la mejor solución:"
      ],
      "metadata": {
        "id": "bPsUuulmgQfp"
      }
    },
    {
      "cell_type": "code",
      "source": [
        "# BUSQUEDA ALEATORIA\n",
        "\n",
        "def busqueda_aleatoria(problem, N):\n",
        "  # N: es el nº de iteraciones\n",
        "  # Nodos: nº de nodos en el problema\n",
        "  Nodos = list(problem.get_nodes())\n",
        "  \n",
        "  # Inicializamos con un valor alto (infinito)\n",
        "  mejor_solucion = []\n",
        "  mejor_distancia = float('inf')\n",
        "  \n",
        "  # Criterio de parada: repetir N veces\n",
        "  for i in range(N):\n",
        "    # Genera una solucion aleatoria\n",
        "    solucion = crear_solucion(Nodos)\n",
        "    # Calcula el valor objetivo(distancia total)\n",
        "    distancia = distancia_total(solucion, problem)\n",
        "    \n",
        "    # Compara con la mejor obtenida hasta ahora\n",
        "    if distancia < mejor_distancia:\n",
        "      mejor_solucion = solucion\n",
        "      mejor_distancia = distancia\n",
        "      \n",
        "  print(\"Mejor solución:\" , mejor_solucion)\n",
        "  print(\"Distancia     :\" , mejor_distancia)\n",
        "  return mejor_solucion\n",
        "  \n",
        "# Busqueda aleatoria con 100.000 iteraciones\n",
        "solucion = busqueda_aleatoria(problem, 100000)"
      ],
      "metadata": {
        "colab": {
          "base_uri": "https://localhost:8080/",
          "height": 0
        },
        "id": "GXntwy4jgQpa",
        "outputId": "017754e4-1993-42b6-ec6b-4eef0b112efe"
      },
      "execution_count": 32,
      "outputs": [
        {
          "output_type": "stream",
          "name": "stdout",
          "text": [
            "Mejor solución: [0, 25, 41, 23, 19, 1, 30, 39, 21, 20, 34, 17, 15, 35, 8, 18, 26, 13, 11, 9, 4, 38, 33, 36, 37, 3, 40, 24, 10, 12, 22, 29, 28, 5, 14, 6, 16, 31, 27, 32, 7, 2]\n",
            "Distancia     : 3469\n"
          ]
        }
      ]
    },
    {
      "cell_type": "markdown",
      "source": [
        "Estamos muy lejos de la mejor solución (hasta el momento) para este problema, que es 1273. Vamos a probar con otro algoritmo"
      ],
      "metadata": {
        "id": "SR87bQbdbYML"
      }
    },
    {
      "cell_type": "markdown",
      "source": [
        "## BÚSQUEDA LOCAL\n",
        "\n",
        "Vamos a probar con otro algoritmo, el de Búsqueda local. Este algoritmo trata de encontrar la solución óptima de un problema a partir de una solución inicial, mediante la exploración de soluciones cercanas y la comparación con la solución actual. Si se encuentra una solución mejor, se reemplaza la solución actual por la nueva solución y se vuelve a explorar. Este proceso se repite hasta que no se encuentren soluciones mejores, o hasta que se alcance un criterio de parada. Por ello, haremos intercambios de nodos dos a dos, para ver si mejoramos esta solución.\n",
        "\n",
        "Este algoritmo emplea un enfoque heurístico que no garantiza encontrar la solución global óptima, pero es eficaz en la resolución de muchos problemas prácticos. Para comenzar, definiremos una función `genera_vecina` que genera soluciones vecinas:\n",
        "\n"
      ],
      "metadata": {
        "id": "dskTw8zFjmTc"
      }
    },
    {
      "cell_type": "code",
      "source": [
        "# Función para generar soluciones vecinas\n",
        "\n",
        "def genera_vecina(solucion):\n",
        "  # Generador de soluciones vecinas: 2-opt (intercambiar 2 nodos) Si hay N nodos se generan (N-1)x(N-2)/2 soluciones\n",
        "  # Se puede modificar para aplicar otros generadores distintos que 2-opt\n",
        "  mejor_solucion = []\n",
        "  mejor_distancia = float('inf')\n",
        "  \n",
        "  # Recorremos todos los nodos en bucle doble para evaluar todos los intercambios 2-opt\n",
        "  for i in range(1,len(solucion)-1):\n",
        "    for j in range(i+1, len(solucion)):\n",
        "      \n",
        "      # Se genera una nueva solución intercambiando los dos nodos i,j:\n",
        "      # (usamos el operador + que para listas en python las concatena) : ej.: [1,2] + [3] = [1,2,3]\n",
        "      vecina = solucion[:i] + [solucion[j]] + solucion[i+1:j] + [solucion[i]] + solucion[j+1:]  \n",
        "\n",
        "      # Se evalua la nueva solución ...\n",
        "      distancia_vecina = distancia_total(vecina, problem)         \n",
        "\n",
        "      #... para guardarla si mejora las anteriores\n",
        "      if distancia_vecina <= mejor_distancia:\n",
        "        mejor_distancia = distancia_vecina\n",
        "        mejor_solucion = vecina\n",
        "  return mejor_solucion\n",
        "\n",
        "print(\"Distancia Solucion Incial:\", distancia_total(solucion, problem))\n",
        "\n",
        "nueva_solucion = genera_vecina(solucion)\n",
        "print(\"Distancia Mejor Solucion Local:\", distancia_total(nueva_solucion, problem))"
      ],
      "metadata": {
        "colab": {
          "base_uri": "https://localhost:8080/",
          "height": 0
        },
        "id": "8pJ46vikj9rV",
        "outputId": "374ad82a-b995-47df-c28b-47e01e3558c9"
      },
      "execution_count": 33,
      "outputs": [
        {
          "output_type": "stream",
          "name": "stdout",
          "text": [
            "Distancia Solucion Incial: 3469\n",
            "Distancia Mejor Solucion Local: 3269\n"
          ]
        }
      ]
    },
    {
      "cell_type": "markdown",
      "source": [
        "Se observa una mejora significativa en la distancia respecto de la solución aleatoria, aunque continuamos lejos de la mejor solución encontrada.\n",
        "\n",
        "Para mejorar esta solución vamos a aplicar la función `genera_vecinas` repetidamente, aunque ahora no fijaremos un numero de iteraciones. El criterio de salida de la función va a ser ahora no encontrar una mejor solución:"
      ],
      "metadata": {
        "id": "2_JDQg6klPxQ"
      }
    },
    {
      "cell_type": "code",
      "source": [
        "# BÚSQUEDA LOCAL\n",
        "\n",
        "#  Sobre el operador de vecindad 2-opt(funcion genera_vecina)\n",
        "#  Sin criterio de parada, se para cuando no es posible mejorar.\n",
        "def busqueda_local(problem, solucion):\n",
        "  mejor_solucion = []\n",
        "    \n",
        "  # Esta parte del código hace que siempre obtengamos el mismo resultado, ya que toma la variable solucion obtenida anteriormente\n",
        "  solucion_referencia = solucion\n",
        "  mejor_distancia = distancia_total(solucion_referencia, problem)\n",
        "  # Contador para saber las iteraciones que hacemos\n",
        "  iteracion = 0\n",
        "  while(1):\n",
        "    # Incrementamos el contador\n",
        "    iteracion +=1\n",
        "    # Obtenemos la mejor vecina\n",
        "    vecina = genera_vecina(solucion_referencia)\n",
        "    #... y la evaluamos para ver si mejoramos respecto a lo encontrado hasta el momento\n",
        "    distancia_vecina = distancia_total(vecina, problem)\n",
        "    # Si no mejoramos hay que terminar. Hemos llegado a un minimo local(según nuestro operador de vencindad 2-opt)\n",
        "    if distancia_vecina < mejor_distancia:\n",
        "      # Guarda la mejor solución encontrada\n",
        "      mejor_solucion = vecina\n",
        "      mejor_distancia = distancia_vecina\n",
        "    else:\n",
        "      print(\"En la iteracion\", iteracion, \"la mejor solución encontrada es:\", mejor_solucion) \n",
        "      print(\"Distancia     :\" , mejor_distancia) \n",
        "      return mejor_solucion\n",
        "    solucion_referencia = vecina\n",
        "\n",
        "sol = busqueda_local(problem, solucion)"
      ],
      "metadata": {
        "colab": {
          "base_uri": "https://localhost:8080/",
          "height": 0
        },
        "id": "ItZRzzpmlP7M",
        "outputId": "2595ea1d-79f9-4745-fd06-d52fe916e592"
      },
      "execution_count": 34,
      "outputs": [
        {
          "output_type": "stream",
          "name": "stdout",
          "text": [
            "En la iteracion 32 la mejor solución encontrada es: [0, 1, 6, 5, 26, 18, 9, 39, 22, 38, 34, 33, 20, 3, 4, 12, 11, 25, 10, 30, 32, 31, 35, 36, 17, 21, 24, 40, 23, 41, 8, 29, 28, 13, 19, 14, 16, 15, 37, 7, 27, 2]\n",
            "Distancia     : 1895\n"
          ]
        }
      ]
    },
    {
      "cell_type": "markdown",
      "source": [
        "Ahora sí. Vemos que aplicar iterativamente el algortimo de búsqueda local, mejora considerablemente la solución, que si bien aún está lejos del mejor valor encontrado para este problema, podemos considerar que se trata de una buena solución."
      ],
      "metadata": {
        "id": "HMdJneT0Yra-"
      }
    },
    {
      "cell_type": "markdown",
      "source": [
        "# AMPLIACIÓN PROBLEMA DEL AGENTE VIAJERO\n",
        "\n",
        "Búsqueda local. Desventajas(intensifica pero no diversifica): escapar de máximos(mínimos) locales. 3 opciones:\n",
        "- Modificar la estructura de entornos\n",
        "búsqueda en entornos variables(*)\n",
        "- Permitir movimientos peores respecto a la solución actual\n",
        "búsqueda tabú, recocido simulado\n",
        "- Volver a comenzar con otras soluciones iniciales\n",
        "búsquedas multi-arranque"
      ],
      "metadata": {
        "id": "cIteUg9-psZ0"
      }
    },
    {
      "cell_type": "markdown",
      "source": [
        "Si lo que queremos es trabajar con entornos variables, deberemos cambiar la función para generar una solución vecina. En el caso que hemos visto hace un momento hemos usado el método 2-opt, por lo que ahora definiremos una nueva función `genera_vecina_2`, en la cual incluiremos un método de generación en entornos variables.\n",
        "\n",
        "En este caso hemos optado por un enfoque de *intercambio de segmentos*, en el que se intercambian dos segmentos de la solución actual para formar una nueva solución. La función recorre todos los tamaños de segmentos y todas las posiciones iniciales de los segmentos, intercambiándolos con una posición anterior en la lista para encontrar la vecina con la distancia total más corta. La función devuelve la mejor solución encontrada."
      ],
      "metadata": {
        "id": "SaZRSQApdFDG"
      }
    },
    {
      "cell_type": "code",
      "source": [
        "def genera_vecina_2(solucion):\n",
        "  mejor_solucion = []\n",
        "  mejor_distancia = float('inf')\n",
        "  \n",
        "  # Recorremos todos los tamaños de segmentos\n",
        "  for tamaño_segmento in range(2, len(solucion)//2 + 1):\n",
        "    # Recorremos todas las posiciones iniciales de los segmentos\n",
        "    for i in range(len(solucion) - tamaño_segmento + 1):\n",
        "      j = i + tamaño_segmento - 1\n",
        "      \n",
        "      # Intercambiamos el segmento con una posición anterior en la lista\n",
        "      for k in range(i):\n",
        "        vecina = solucion[:k] + solucion[i:j+1] + solucion[k:i] + solucion[j+1:]\n",
        "        distancia_vecina = distancia_total(vecina, problem)\n",
        "        if distancia_vecina < mejor_distancia:\n",
        "          mejor_distancia = distancia_vecina\n",
        "          mejor_solucion = vecina\n",
        "          \n",
        "  return mejor_solucion"
      ],
      "metadata": {
        "id": "9m7vU6V3m-2L"
      },
      "execution_count": 35,
      "outputs": []
    },
    {
      "cell_type": "code",
      "source": [
        "# BÚSQUEDA LOCAL\n",
        "\n",
        "#  Sobre el operador de vecindad 2-opt(funcion genera_vecina)\n",
        "#  Sin criterio de parada, se para cuando no es posible mejorar.\n",
        "def busqueda_local(problem, solucion):\n",
        "  mejor_solucion = []\n",
        "  \n",
        "  # Esta parte del código hace que siempre obtengamos el mismo resultado, ya que toma la variable solucion obtenida anteriormente\n",
        "  solucion_referencia = solucion\n",
        "  mejor_distancia = distancia_total(solucion_referencia, problem)\n",
        "  # Contador para saber las iteraciones que hacemos\n",
        "  iteracion = 0\n",
        "  while(1):\n",
        "    # Incrementamos el contador\n",
        "    iteracion +=1\n",
        "    # Obtenemos la mejor vecina\n",
        "    vecina = genera_vecina_2(solucion_referencia)\n",
        "    #... y la evaluamos para ver si mejoramos respecto a lo encontrado hasta el momento\n",
        "    distancia_vecina = distancia_total(vecina, problem)\n",
        "    # Si no mejoramos hay que terminar. Hemos llegado a un minimo local(según nuestro operador de vencindad 2-opt)\n",
        "    if distancia_vecina < mejor_distancia:\n",
        "      # Guarda la mejor solución encontrada\n",
        "      mejor_solucion = vecina\n",
        "      mejor_distancia = distancia_vecina\n",
        "    else:\n",
        "      print(\"En la iteracion\", iteracion, \"la mejor solución encontrada es:\", mejor_solucion) \n",
        "      print(\"Distancia     :\" , mejor_distancia) \n",
        "      return mejor_solucion\n",
        "    \n",
        "    solucion_referencia = vecina\n",
        "\n",
        "sol = busqueda_local(problem, solucion)"
      ],
      "metadata": {
        "colab": {
          "base_uri": "https://localhost:8080/",
          "height": 0
        },
        "id": "vc194FNEgz2a",
        "outputId": "497a70a3-bc77-4c01-f608-0a888076377b"
      },
      "execution_count": 36,
      "outputs": [
        {
          "output_type": "stream",
          "name": "stdout",
          "text": [
            "En la iteracion 23 la mejor solución encontrada es: [0, 1, 6, 4, 3, 27, 32, 30, 29, 28, 8, 10, 18, 26, 5, 19, 13, 12, 11, 25, 41, 23, 9, 21, 40, 24, 39, 22, 38, 34, 33, 20, 35, 36, 31, 17, 37, 15, 16, 14, 7, 2]\n",
            "Distancia     : 1450\n"
          ]
        }
      ]
    },
    {
      "cell_type": "markdown",
      "source": [
        "# METAHEURÍSTICAS - RECOCIDO SIMULADO\n",
        "\n"
      ],
      "metadata": {
        "id": "FusL-49Yp0WJ"
      }
    },
    {
      "cell_type": "markdown",
      "source": [
        "El enfriamiento, o recocido, simulado es una técnica de optimización basada en un proceso análogo al enfriamiento físico. El proceso comienza con una solución aleatoria a una temperatura elevada, donde las soluciones peores son aceptadas con una probabilidad cierta. La temperatura se va reduciendo gradualmente a lo largo del tiempo, lo que hace que la probabilidad de aceptar soluciones peores disminuya. En el proceso se espera encontrar la solución óptima o una aproximación cercana a ella."
      ],
      "metadata": {
        "id": "L3m3wzRhp6G1"
      }
    },
    {
      "cell_type": "code",
      "source": [
        "# SIMULATED ANNEALING\n",
        "\n",
        "# Generador de 1 solucion vecina 2-opt 100% aleatoria (intercambiar 2 nodos)\n",
        "# Mejorable eligiendo otra forma de elegir una vecina.\n",
        "\n",
        "def genera_vecina_aleatorio(solucion):    # TAL VEZ PARA MEJORAR SE DEBERIA INCIDIR AQUÍ. POR EJEMPLO ELEGIR ENTRE LOS 5 MEJORES RESULTADOS\n",
        "\n",
        "  # Se eligen dos nodos aleatoriamente\n",
        "  i,j = sorted(random.sample(range(1,len(solucion)), 2))\n",
        "  \n",
        "  # Devuelve una nueva solución pero intercambiando los dos nodos elegidos al azar\n",
        "  return solucion[:i] + [solucion[j]] + solucion[i+1:j] + [solucion[i]] + solucion[j+1:]"
      ],
      "metadata": {
        "id": "QE847swfp6RA"
      },
      "execution_count": 37,
      "outputs": []
    },
    {
      "cell_type": "markdown",
      "source": [
        "Ahora introduciremos las funciones auxiliares para modelar la temperatura"
      ],
      "metadata": {
        "id": "hQqozIuYryod"
      }
    },
    {
      "cell_type": "code",
      "source": [
        "#Funcion de probabilidad para aceptar peores soluciones\n",
        "def probabilidad(T,d):\n",
        "  if random.random() < math.exp(-1*d/T):\n",
        "    return True\n",
        "  else:\n",
        "    return False\n",
        "\n",
        "#Funcion de descenso de temperatura\n",
        "def bajar_temperatura(T):\n",
        "  return T*0.999 # Hay más funciones (mirar apuntes) para ir bajando la temperatura\n"
      ],
      "metadata": {
        "id": "fXgmT_8Fr3X1"
      },
      "execution_count": 38,
      "outputs": []
    },
    {
      "cell_type": "markdown",
      "source": [
        "Definimos la función de recocido simulado:\n",
        "\n",
        "- En cada iteración se genera una vecina aleatoria.\n",
        "- Calculamos el valor de la solucion.\n",
        "- Vemos si es mejor, y si lo es, la guardamos.\n",
        "- Por último, establecemos el control de si cambiamos o no: si la distancia de la vecina es peor, o si también la probabilidad de quedarnos con una peor solucion."
      ],
      "metadata": {
        "id": "OnNWm0tLsSCp"
      }
    },
    {
      "cell_type": "code",
      "source": [
        "def recocido_simulado(problem, TEMPERATURA):\n",
        "  # problem = datos del problema\n",
        "  # T = Temperatura\n",
        "  \n",
        "  solucion_referencia = crear_solucion(Nodos)   # Este es el componente aleatorio\n",
        "  distancia_referencia = distancia_total(solucion_referencia, problem)\n",
        "  \n",
        "  mejor_solucion = []\n",
        "  mejor_distancia = float('inf')\n",
        "  \n",
        "  N = 0\n",
        "  while TEMPERATURA > .0001:\n",
        "    N += 1\n",
        "    #Genera una solución vecina\n",
        "    vecina = genera_vecina_aleatorio(solucion_referencia)\n",
        "    \n",
        "    #Calcula su valor(distancia)\n",
        "    distancia_vecina = distancia_total(vecina, problem)\n",
        "    \n",
        "    #Si es la mejor solución de todas se guarda(siempre!!!)\n",
        "    if distancia_vecina < mejor_distancia:\n",
        "        mejor_solucion = vecina\n",
        "        mejor_distancia = distancia_vecina\n",
        "    \n",
        "    # Si la nueva vecina es mejor se cambia  \n",
        "    # Si es peor se cambia según una probabilidad que depende de T y delta(distancia_referencia - distancia_vecina)\n",
        "    if distancia_vecina < distancia_referencia or probabilidad(TEMPERATURA, abs(distancia_referencia - distancia_vecina)):\n",
        "      solucion_referencia = vecina\n",
        "      distancia_referencia = distancia_vecina\n",
        "\n",
        "    #Bajamos la temperatura\n",
        "    TEMPERATURA = bajar_temperatura(TEMPERATURA)\n",
        "\n",
        "  print(\"La mejor solución encontrada es\", mejor_solucion)\n",
        "  print(\"con una distancia total de\", mejor_distancia)\n",
        "  print(\"Iteraciones:\", N)\n",
        "  return mejor_solucion\n",
        "\n",
        "sol  = recocido_simulado(problem, 10000000)\n"
      ],
      "metadata": {
        "colab": {
          "base_uri": "https://localhost:8080/",
          "height": 0
        },
        "id": "lfJilgjMsSPj",
        "outputId": "ff4b40b3-9928-4bed-a0f8-791372d2a642"
      },
      "execution_count": 39,
      "outputs": [
        {
          "output_type": "stream",
          "name": "stdout",
          "text": [
            "La mejor solución encontrada es [0, 3, 27, 2, 28, 29, 30, 32, 7, 14, 1, 4, 6, 5, 26, 18, 12, 11, 25, 41, 23, 8, 10, 13, 19, 16, 15, 37, 17, 31, 36, 35, 20, 33, 34, 38, 22, 39, 21, 24, 40, 9]\n",
            "con una distancia total de 1570\n",
            "Iteraciones: 25316\n"
          ]
        }
      ]
    },
    {
      "cell_type": "markdown",
      "source": [
        "# AMPLIACIÓN: MEJORA EN LA GENERACIÓN DE LA PARTE ALEATORIA DE RECOCIDO SIMULADO"
      ],
      "metadata": {
        "id": "5u-FmC-NuCt8"
      }
    },
    {
      "cell_type": "markdown",
      "source": [
        "Vamos a tratar de mejorar la solución aportada por el método del recocido simulado, incidiendo en la generación de la parte aleatoria del algoritmo. En este caso, en lugar de generar una sola solución aleatoria y empezar con ella, hemos modificado la función `genera_vecina_aleatorio_1`, de manea que, ahora, el algoritmo genera un número determinado de soluciones aleatorias, y se queda con la que mejor resultado da. En este caso hemos dejado un valor de 10, aunque hemos probado diferentes combinaciones (5, 15, 20, etc.)."
      ],
      "metadata": {
        "id": "6r0St_R3tgIt"
      }
    },
    {
      "cell_type": "code",
      "source": [
        "def genera_vecina_aleatorio_1(solucion):    # TAL VEZ PARA MEJORAR SE DEBERIA INCIDIR AQUÍ. POR EJEMPLO ELEGIR ENTRE LOS 5 MEJORES RESULTADOS\n",
        "\n",
        "  mejor_distancia = float('inf')\n",
        "  mejor_solucion = []\n",
        "  # Se eligen dos nodos aleatoriamente\n",
        "  for iteracion in range(10):\n",
        "    i,j = sorted(random.sample(range(1,len(solucion)), 2))\n",
        "    solucion_provisional = solucion[:i] + [solucion[j]] + solucion[i+1:j] + [solucion[i]] + solucion[j+1:]\n",
        "    distancia_referencia = distancia_total(solucion_provisional, problem)\n",
        "\n",
        "    if distancia_referencia < mejor_distancia:\n",
        "        mejor_solucion = solucion_provisional\n",
        "        mejor_distancia = distancia_referencia\n",
        "\n",
        "  # Devuelve una nueva solución pero intercambiando los dos nodos elegidos al azar\n",
        "  return mejor_solucion\n",
        "\n",
        "print(genera_vecina_aleatorio(solucion))\n"
      ],
      "metadata": {
        "colab": {
          "base_uri": "https://localhost:8080/",
          "height": 0
        },
        "id": "NKxXoygnB2S0",
        "outputId": "ef172c88-28cd-4d10-821c-e8196de19d95"
      },
      "execution_count": 40,
      "outputs": [
        {
          "output_type": "stream",
          "name": "stdout",
          "text": [
            "[0, 25, 41, 23, 19, 1, 30, 39, 21, 20, 34, 17, 15, 35, 8, 18, 26, 13, 11, 9, 4, 38, 33, 36, 37, 3, 29, 24, 10, 12, 22, 40, 28, 5, 14, 6, 16, 31, 27, 32, 7, 2]\n"
          ]
        }
      ]
    },
    {
      "cell_type": "code",
      "source": [
        "def recocido_simulado(problem, TEMPERATURA):\n",
        "  # problem: datos del problema\n",
        "  # T: Temperatura\n",
        "  \n",
        "  solucion_referencia = crear_solucion(Nodos)   # Este es el componente aleatorio\n",
        "  distancia_referencia = distancia_total(solucion_referencia, problem)\n",
        "  \n",
        "  mejor_solucion = []\n",
        "  mejor_distancia = float('inf')\n",
        "  \n",
        "  N = 0\n",
        "  while TEMPERATURA > .00001:\n",
        "    N += 1\n",
        "    # Genera una solución vecina\n",
        "    vecina = genera_vecina_aleatorio_1(solucion_referencia)\n",
        "    \n",
        "    # Calcula su valor(distancia)\n",
        "    distancia_vecina = distancia_total(vecina, problem)\n",
        "    \n",
        "    # Si es la mejor solución de todas se guarda(siempre!!!)\n",
        "    if distancia_vecina < mejor_distancia:\n",
        "        mejor_solucion = vecina\n",
        "        mejor_distancia = distancia_vecina\n",
        "    \n",
        "    # Si la nueva vecina es mejor se cambia  \n",
        "    # Si es peor se cambia según una probabilidad que depende de T y delta(distancia_referencia - distancia_vecina)\n",
        "    if distancia_vecina < distancia_referencia or probabilidad(TEMPERATURA, abs(distancia_referencia - distancia_vecina)):\n",
        "      solucion_referencia = vecina\n",
        "      distancia_referencia = distancia_vecina\n",
        "\n",
        "    #Bajamos la temperatura\n",
        "    TEMPERATURA = bajar_temperatura(TEMPERATURA)\n",
        "\n",
        "  print(\"La mejor solución encontrada es\", mejor_solucion)\n",
        "  print(\"con una distancia total de\", mejor_distancia)\n",
        "  print(\"Iteraciones:\", N)\n",
        "  return mejor_solucion\n",
        "\n",
        "sol  = recocido_simulado(problem, 10000000)"
      ],
      "metadata": {
        "colab": {
          "base_uri": "https://localhost:8080/",
          "height": 0
        },
        "id": "vEPAwuKPmfhO",
        "outputId": "7bc57c82-2b10-4d46-b87e-fdde20f08ee0"
      },
      "execution_count": 41,
      "outputs": [
        {
          "output_type": "stream",
          "name": "stdout",
          "text": [
            "La mejor solución encontrada es [0, 1, 3, 4, 6, 5, 13, 19, 14, 16, 15, 37, 7, 26, 18, 12, 11, 25, 10, 29, 30, 34, 20, 33, 38, 22, 39, 21, 24, 40, 23, 41, 9, 8, 28, 2, 27, 32, 31, 35, 36, 17]\n",
            "con una distancia total de 1514\n",
            "Iteraciones: 27618\n"
          ]
        }
      ]
    },
    {
      "cell_type": "markdown",
      "source": [
        "Después de probar diferentes soluciones al aplicar de nuevo la función `recocido_simulado` con estas nuevas condiciones, obtenemos mejores resultados que antes. Es frecuente que las mejores soluciones que quedan después de aplicar el algoritmo, esten por debajo de 1400, llegando a una mejor solución encontrada de 1318, muy cerca de 1273 (solo distan 45 km).\n",
        "\n",
        "Cabe destacar que también hemos probado diferentes valores de enfriamiento (0.999·T, 0.9999·T, etc), comprobando que un tiempo de enfriamiento más lento favorece soluciones óptimas, aunque a costa de tiempo de ejecución (hemos llegado a ejecuciones de más de 12 minutos).\n",
        "\n",
        "La mejor solución que hemos encontrado, la podemos comprobar con la función `distancia_total`:"
      ],
      "metadata": {
        "id": "OLl3_qE2owKt"
      }
    },
    {
      "cell_type": "code",
      "source": [
        "# Esta es la mejor solución que hemos encontrado\n",
        "print(distancia_total([0, 1, 6, 26, 18, 12, 11, 25, 10, 8, 9, 41, 23, 40, 24, 21, 39, 22, 38, 30, 29, 28, 32, 34, 33, 20, 35, 36, 31, 17, 7, 37, 15, 16, 14, 19, 13, 5, 4, 3, 2, 27], problem))"
      ],
      "metadata": {
        "colab": {
          "base_uri": "https://localhost:8080/",
          "height": 0
        },
        "id": "2K34wdz5oz0q",
        "outputId": "c2298266-a2db-4a56-e9dd-6e8af25ec918"
      },
      "execution_count": 42,
      "outputs": [
        {
          "output_type": "stream",
          "name": "stdout",
          "text": [
            "1318\n"
          ]
        }
      ]
    }
  ]
}